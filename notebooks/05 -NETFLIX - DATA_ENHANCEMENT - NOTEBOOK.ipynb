{
 "cells": [
  {
   "cell_type": "markdown",
   "metadata": {},
   "source": [
    "# NOTEBOOK MUST BE RUN IN ENV: netflix_proj_env"
   ]
  },
  {
   "cell_type": "code",
   "execution_count": 2,
   "metadata": {},
   "outputs": [
    {
     "name": "stdout",
     "output_type": "stream",
     "text": [
      "# conda environments:\n",
      "#\n",
      "                         C:\\Program Files\\Orange\n",
      "base                     C:\\ProgramData\\Anaconda3\n",
      "ChatDev_conda_env        C:\\Users\\PhillipRashaad\\.conda\\envs\\ChatDev_conda_env\n",
      "PandasProfileEnv         C:\\Users\\PhillipRashaad\\.conda\\envs\\PandasProfileEnv\n",
      "SMOP_env                 C:\\Users\\PhillipRashaad\\.conda\\envs\\SMOP_env\n",
      "autogen_autobuild_env     C:\\Users\\PhillipRashaad\\.conda\\envs\\autogen_autobuild_env\n",
      "autogen_studio_env       C:\\Users\\PhillipRashaad\\.conda\\envs\\autogen_studio_env\n",
      "automemgpt_env           C:\\Users\\PhillipRashaad\\.conda\\envs\\automemgpt_env\n",
      "classy_env               C:\\Users\\PhillipRashaad\\.conda\\envs\\classy_env\n",
      "crewai_env               C:\\Users\\PhillipRashaad\\.conda\\envs\\crewai_env\n",
      "crewai_poetry_env        C:\\Users\\PhillipRashaad\\.conda\\envs\\crewai_poetry_env\n",
      "cupy_tut                 C:\\Users\\PhillipRashaad\\.conda\\envs\\cupy_tut\n",
      "datascienv               C:\\Users\\PhillipRashaad\\.conda\\envs\\datascienv\n",
      "flask_env                C:\\Users\\PhillipRashaad\\.conda\\envs\\flask_env\n",
      "flask_pycaret_env        C:\\Users\\PhillipRashaad\\.conda\\envs\\flask_pycaret_env\n",
      "gpt-eng_env              C:\\Users\\PhillipRashaad\\.conda\\envs\\gpt-eng_env\n",
      "gpt_eng2                 C:\\Users\\PhillipRashaad\\.conda\\envs\\gpt_eng2\n",
      "keras_env                C:\\Users\\PhillipRashaad\\.conda\\envs\\keras_env\n",
      "netflix_proj_env      *  C:\\Users\\PhillipRashaad\\.conda\\envs\\netflix_proj_env\n",
      "pandasprofileenv         C:\\Users\\PhillipRashaad\\.conda\\envs\\pandasprofileenv\n",
      "party_planner_env        C:\\Users\\PhillipRashaad\\.conda\\envs\\party_planner_env\n",
      "pyautogen_env            C:\\Users\\PhillipRashaad\\.conda\\envs\\pyautogen_env\n",
      "pycaret_env              C:\\Users\\PhillipRashaad\\.conda\\envs\\pycaret_env\n",
      "spacy3_env               C:\\Users\\PhillipRashaad\\.conda\\envs\\spacy3_env\n",
      "textgen_env              C:\\Users\\PhillipRashaad\\.conda\\envs\\textgen_env\n",
      "trip_planner_env         C:\\Users\\PhillipRashaad\\.conda\\envs\\trip_planner_env\n",
      "udemy_langchain_course_env     C:\\Users\\PhillipRashaad\\.conda\\envs\\udemy_langchain_course_env\n",
      "webscraping_env          C:\\Users\\PhillipRashaad\\.conda\\envs\\webscraping_env\n",
      "work_experience_chatbot_env     C:\\Users\\PhillipRashaad\\.conda\\envs\\work_experience_chatbot_env\n",
      "\n"
     ]
    }
   ],
   "source": [
    "#Confirm in the correct env\n",
    "!conda env list"
   ]
  },
  {
   "cell_type": "markdown",
   "metadata": {},
   "source": [
    "# 1. LOAD DATA"
   ]
  },
  {
   "cell_type": "code",
   "execution_count": 41,
   "metadata": {},
   "outputs": [
    {
     "name": "stdout",
     "output_type": "stream",
     "text": [
      "(15595, 3)\n"
     ]
    },
    {
     "data": {
      "text/html": [
       "<div>\n",
       "<style scoped>\n",
       "    .dataframe tbody tr th:only-of-type {\n",
       "        vertical-align: middle;\n",
       "    }\n",
       "\n",
       "    .dataframe tbody tr th {\n",
       "        vertical-align: top;\n",
       "    }\n",
       "\n",
       "    .dataframe thead th {\n",
       "        text-align: right;\n",
       "    }\n",
       "</style>\n",
       "<table border=\"1\" class=\"dataframe\">\n",
       "  <thead>\n",
       "    <tr style=\"text-align: right;\">\n",
       "      <th></th>\n",
       "      <th>Clean_Title</th>\n",
       "      <th>Title_Counts</th>\n",
       "      <th>Clean_Title_Char_Len</th>\n",
       "    </tr>\n",
       "  </thead>\n",
       "  <tbody>\n",
       "    <tr>\n",
       "      <th>0</th>\n",
       "      <td>naruto shippuden</td>\n",
       "      <td>21</td>\n",
       "      <td>16</td>\n",
       "    </tr>\n",
       "    <tr>\n",
       "      <th>1</th>\n",
       "      <td>greys anatomy</td>\n",
       "      <td>19</td>\n",
       "      <td>13</td>\n",
       "    </tr>\n",
       "    <tr>\n",
       "      <th>2</th>\n",
       "      <td>heartland 2007</td>\n",
       "      <td>16</td>\n",
       "      <td>14</td>\n",
       "    </tr>\n",
       "    <tr>\n",
       "      <th>3</th>\n",
       "      <td>gogglebox</td>\n",
       "      <td>16</td>\n",
       "      <td>9</td>\n",
       "    </tr>\n",
       "    <tr>\n",
       "      <th>4</th>\n",
       "      <td>ncis</td>\n",
       "      <td>15</td>\n",
       "      <td>4</td>\n",
       "    </tr>\n",
       "  </tbody>\n",
       "</table>\n",
       "</div>"
      ],
      "text/plain": [
       "        Clean_Title  Title_Counts  Clean_Title_Char_Len\n",
       "0  naruto shippuden            21                    16\n",
       "1     greys anatomy            19                    13\n",
       "2    heartland 2007            16                    14\n",
       "3         gogglebox            16                     9\n",
       "4              ncis            15                     4"
      ]
     },
     "execution_count": 41,
     "metadata": {},
     "output_type": "execute_result"
    }
   ],
   "source": [
    "#Load Preprocessed netflix engagement data with is_original column\n",
    "import pandas as pd\n",
    "\n",
    "unique_titles_df = pd.read_csv(\"04 - PREPROCESSED_DATA - Netflix_Engagement_Data.csv\")\n",
    "\n",
    "print(unique_titles_df.shape)\n",
    "\n",
    "unique_titles_df.head()"
   ]
  },
  {
   "cell_type": "code",
   "execution_count": 32,
   "metadata": {},
   "outputs": [
    {
     "name": "stdout",
     "output_type": "stream",
     "text": [
      "(13654, 3)\n"
     ]
    },
    {
     "data": {
      "text/html": [
       "<div>\n",
       "<style scoped>\n",
       "    .dataframe tbody tr th:only-of-type {\n",
       "        vertical-align: middle;\n",
       "    }\n",
       "\n",
       "    .dataframe tbody tr th {\n",
       "        vertical-align: top;\n",
       "    }\n",
       "\n",
       "    .dataframe thead th {\n",
       "        text-align: right;\n",
       "    }\n",
       "</style>\n",
       "<table border=\"1\" class=\"dataframe\">\n",
       "  <thead>\n",
       "    <tr style=\"text-align: right;\">\n",
       "      <th></th>\n",
       "      <th>Clean_Title</th>\n",
       "      <th>Title_Counts</th>\n",
       "      <th>Clean_Title_Char_Len</th>\n",
       "    </tr>\n",
       "  </thead>\n",
       "  <tbody>\n",
       "    <tr>\n",
       "      <th>0</th>\n",
       "      <td>naruto shippuden</td>\n",
       "      <td>21</td>\n",
       "      <td>16</td>\n",
       "    </tr>\n",
       "    <tr>\n",
       "      <th>1</th>\n",
       "      <td>greys anatomy</td>\n",
       "      <td>19</td>\n",
       "      <td>13</td>\n",
       "    </tr>\n",
       "    <tr>\n",
       "      <th>2</th>\n",
       "      <td>heartland 2007</td>\n",
       "      <td>16</td>\n",
       "      <td>14</td>\n",
       "    </tr>\n",
       "    <tr>\n",
       "      <th>3</th>\n",
       "      <td>gogglebox</td>\n",
       "      <td>16</td>\n",
       "      <td>9</td>\n",
       "    </tr>\n",
       "    <tr>\n",
       "      <th>4</th>\n",
       "      <td>ncis</td>\n",
       "      <td>15</td>\n",
       "      <td>4</td>\n",
       "    </tr>\n",
       "  </tbody>\n",
       "</table>\n",
       "</div>"
      ],
      "text/plain": [
       "        Clean_Title  Title_Counts  Clean_Title_Char_Len\n",
       "0  naruto shippuden            21                    16\n",
       "1     greys anatomy            19                    13\n",
       "2    heartland 2007            16                    14\n",
       "3         gogglebox            16                     9\n",
       "4              ncis            15                     4"
      ]
     },
     "execution_count": 32,
     "metadata": {},
     "output_type": "execute_result"
    }
   ],
   "source": [
    "# #Only including titles that have 10 or more charachters or have multiple title counts\n",
    "# unique_titles_df = unique_titles_df[(unique_titles_df['Clean_Title_Char_Len']>=10) | (unique_titles_df['Title_Counts']>=2)]\n",
    "\n",
    "# print(unique_titles_df.shape)\n",
    "\n",
    "# unique_titles_df.head()"
   ]
  },
  {
   "cell_type": "markdown",
   "metadata": {},
   "source": [
    "# 2. CUSTOM CLASS: `Netflix_Few_Shot_Class`\n",
    "\n",
    "\n",
    "This class is designed to facilitate the creation and execution of few-shot learning prompts\n",
    "using the LangChain library, specifically tailored for determining details about Netflix titles.\n",
    "\n",
    "It encapsulates the process of defining a prompt template, setting up few-shot examples,\n",
    "initializing a language learning model (LLM), and parsing the output.\n",
    "\n",
    "Methods:\n",
    "- create_example_prompt(template, input_variables): Defines the prompt template with placeholders for input variables.\n",
    "- create_few_shot_examples(examples_list): Sets up few-shot examples based on the provided list.\n",
    "- load_llm_model(llm_model): Loads the specified LLM model for generating responses.\n",
    "- load_parser_object(): Initializes an output parser for parsing the response from the LLM.\n",
    "- chain_components(): Chains the few-shot prompt, LLM model, and output parser together for execution.\n",
    "- run_chain(input_question): Executes the chained components with the given input question, returning the LLM's response.\n",
    "\n",
    "Usage:\n",
    "1. Initialize the class with an API key for OpenAI.\n",
    "2. Call `create_example_prompt` with a template string and list of input variables.\n",
    "3. Call `create_few_shot_examples` with a list of examples matching the template structure.\n",
    "4. Create a `ChatOpenAI` object with your API key and preferred model, then pass it to `load_llm_model`.\n",
    "5. Call `load_parser_object` to initialize the output parser.\n",
    "6. Call `chain_components` to prepare the execution pipeline.\n",
    "7. Use `run_chain` with a specific question to get the processed response from the LLM.\n"
   ]
  },
  {
   "cell_type": "markdown",
   "metadata": {},
   "source": [
    "## 2A. Instantiate Netflix class with openai api key"
   ]
  },
  {
   "cell_type": "code",
   "execution_count": 7,
   "metadata": {},
   "outputs": [
    {
     "data": {
      "text/plain": [
       "True"
      ]
     },
     "execution_count": 7,
     "metadata": {},
     "output_type": "execute_result"
    }
   ],
   "source": [
    "import os\n",
    "from dotenv import load_dotenv\n",
    "\n",
    "# Load environment variables from .env file\n",
    "load_dotenv()"
   ]
  },
  {
   "cell_type": "code",
   "execution_count": 9,
   "metadata": {},
   "outputs": [
    {
     "data": {
      "text/plain": [
       "<backend.netflix_llm_chain.Netflix_Few_Shot_Class at 0x21836ff9990>"
      ]
     },
     "execution_count": 9,
     "metadata": {},
     "output_type": "execute_result"
    }
   ],
   "source": [
    "#Import the custom Netflix class object\n",
    "from backend.netflix_llm_chain import Netflix_Few_Shot_Class\n",
    "\n",
    "#Initiate class with openai api key\n",
    "netflix_class = Netflix_Few_Shot_Class(api_key=os.getenv('OPENAI_API_KEY'))\n",
    "\n",
    "netflix_class"
   ]
  },
  {
   "cell_type": "code",
   "execution_count": null,
   "metadata": {},
   "outputs": [],
   "source": []
  },
  {
   "cell_type": "markdown",
   "metadata": {},
   "source": [
    "## 2B. Few-Shot Prompt Creation - Few-Shot Prompting using LangChain object `PromptTemplate`"
   ]
  },
  {
   "cell_type": "code",
   "execution_count": 10,
   "metadata": {},
   "outputs": [
    {
     "data": {
      "text/plain": [
       "PromptTemplate(input_variables=['answer', 'question'], template='Question: {question}\\nAnswer {answer}')"
      ]
     },
     "execution_count": 10,
     "metadata": {},
     "output_type": "execute_result"
    }
   ],
   "source": [
    "#STEP 1: Create prompt template using class method create_example_prompt\n",
    "netflix_class.create_example_prompt(template=\"Question: {question}\\nAnswer {answer}\", input_variables=['question', 'answer'])\n",
    "\n",
    "netflix_class.netflix_example_prompt"
   ]
  },
  {
   "cell_type": "code",
   "execution_count": 11,
   "metadata": {},
   "outputs": [
    {
     "data": {
      "text/plain": [
       "[{'question': \"Is title 'stranger things' original Netflix content?\",\n",
       "  'answer': 'Yes'},\n",
       " {'question': \"Is title 'trolls' original Netflix content?\", 'answer': 'No'},\n",
       " {'question': \"Is title 'money shot the pornhub story' original Netflix content?\",\n",
       "  'answer': 'Yes'},\n",
       " {'question': \"Is title 'avatar the last airbender' original Netflix content?\",\n",
       "  'answer': 'No'}]"
      ]
     },
     "execution_count": 11,
     "metadata": {},
     "output_type": "execute_result"
    }
   ],
   "source": [
    "#STEP 2: Create prompt few-shot examples using class method create_few_shot_examples\n",
    "\n",
    "#2A. Add example dicts to list obejct variable\n",
    "orignal_only_examples = [{\"question\": \"Is title 'stranger things' original Netflix content?\", \"answer\":\"Yes\"},\n",
    "                         {\"question\": \"Is title 'trolls' original Netflix content?\",\"answer\":\"No\"},\n",
    "                         {\"question\": \"Is title 'money shot the pornhub story' original Netflix content?\", \"answer\":\"Yes\"},\n",
    "                         {\"question\": \"Is title 'avatar the last airbender' original Netflix content?\",\"answer\":\"No\"}\n",
    "                         ]\n",
    "\n",
    "orignal_only_examples"
   ]
  },
  {
   "cell_type": "code",
   "execution_count": 12,
   "metadata": {},
   "outputs": [
    {
     "name": "stdout",
     "output_type": "stream",
     "text": [
      "TOTAL FEW-SHOT EXAMPLES: 4\n",
      "\n",
      "\n"
     ]
    },
    {
     "data": {
      "text/plain": [
       "FewShotPromptTemplate(input_variables=['input'], examples=[{'question': \"Is title 'stranger things' original Netflix content?\", 'answer': 'Yes'}, {'question': \"Is title 'trolls' original Netflix content?\", 'answer': 'No'}, {'question': \"Is title 'money shot the pornhub story' original Netflix content?\", 'answer': 'Yes'}, {'question': \"Is title 'avatar the last airbender' original Netflix content?\", 'answer': 'No'}], example_prompt=PromptTemplate(input_variables=['answer', 'question'], template='Question: {question}\\nAnswer {answer}'), suffix='Question: {input}')"
      ]
     },
     "execution_count": 12,
     "metadata": {},
     "output_type": "execute_result"
    }
   ],
   "source": [
    "#2B. Load prompt few-shot examples using  create_few_shot_examples\n",
    "netflix_class.create_few_shot_examples(examples_list=orignal_only_examples)\n",
    "\n",
    "netflix_class.few_shot_prompt"
   ]
  },
  {
   "cell_type": "code",
   "execution_count": null,
   "metadata": {},
   "outputs": [],
   "source": []
  },
  {
   "cell_type": "markdown",
   "metadata": {},
   "source": [
    "## 2C. LLM Creation - Instantiate LangChain ChatOpenAI Object\n",
    "\n",
    "- Instantiated a ChatOpenAI object from LangChain to be used as the LLM Model with the api_key and model name."
   ]
  },
  {
   "cell_type": "code",
   "execution_count": 16,
   "metadata": {},
   "outputs": [
    {
     "name": "stdout",
     "output_type": "stream",
     "text": [
      "Collecting langchain-openai\n",
      "  Downloading langchain_openai-0.1.7-py3-none-any.whl.metadata (2.5 kB)\n",
      "Collecting langchain-core<0.3,>=0.1.46 (from langchain-openai)\n",
      "  Downloading langchain_core-0.2.0-py3-none-any.whl.metadata (5.9 kB)\n",
      "Collecting openai<2.0.0,>=1.24.0 (from langchain-openai)\n",
      "  Downloading openai-1.30.1-py3-none-any.whl.metadata (21 kB)\n",
      "Collecting tiktoken<1,>=0.7 (from langchain-openai)\n",
      "  Downloading tiktoken-0.7.0-cp310-cp310-win_amd64.whl.metadata (6.8 kB)\n",
      "Requirement already satisfied: PyYAML>=5.3 in c:\\users\\philliprashaad\\.conda\\envs\\netflix_proj_env\\lib\\site-packages (from langchain-core<0.3,>=0.1.46->langchain-openai) (6.0.1)\n",
      "Requirement already satisfied: jsonpatch<2.0,>=1.33 in c:\\users\\philliprashaad\\.conda\\envs\\netflix_proj_env\\lib\\site-packages (from langchain-core<0.3,>=0.1.46->langchain-openai) (1.33)\n",
      "Requirement already satisfied: langsmith<0.2.0,>=0.1.0 in c:\\users\\philliprashaad\\.conda\\envs\\netflix_proj_env\\lib\\site-packages (from langchain-core<0.3,>=0.1.46->langchain-openai) (0.1.23)\n",
      "Requirement already satisfied: packaging<24.0,>=23.2 in c:\\users\\philliprashaad\\.conda\\envs\\netflix_proj_env\\lib\\site-packages (from langchain-core<0.3,>=0.1.46->langchain-openai) (23.2)\n",
      "Requirement already satisfied: pydantic<3,>=1 in c:\\users\\philliprashaad\\.conda\\envs\\netflix_proj_env\\lib\\site-packages (from langchain-core<0.3,>=0.1.46->langchain-openai) (2.6.3)\n",
      "Requirement already satisfied: tenacity<9.0.0,>=8.1.0 in c:\\users\\philliprashaad\\.conda\\envs\\netflix_proj_env\\lib\\site-packages (from langchain-core<0.3,>=0.1.46->langchain-openai) (8.2.3)\n",
      "Requirement already satisfied: anyio<5,>=3.5.0 in c:\\users\\philliprashaad\\.conda\\envs\\netflix_proj_env\\lib\\site-packages (from openai<2.0.0,>=1.24.0->langchain-openai) (4.3.0)\n",
      "Requirement already satisfied: distro<2,>=1.7.0 in c:\\users\\philliprashaad\\.conda\\envs\\netflix_proj_env\\lib\\site-packages (from openai<2.0.0,>=1.24.0->langchain-openai) (1.9.0)\n",
      "Requirement already satisfied: httpx<1,>=0.23.0 in c:\\users\\philliprashaad\\.conda\\envs\\netflix_proj_env\\lib\\site-packages (from openai<2.0.0,>=1.24.0->langchain-openai) (0.27.0)\n",
      "Requirement already satisfied: sniffio in c:\\users\\philliprashaad\\.conda\\envs\\netflix_proj_env\\lib\\site-packages (from openai<2.0.0,>=1.24.0->langchain-openai) (1.3.1)\n",
      "Requirement already satisfied: tqdm>4 in c:\\users\\philliprashaad\\.conda\\envs\\netflix_proj_env\\lib\\site-packages (from openai<2.0.0,>=1.24.0->langchain-openai) (4.66.2)\n",
      "Requirement already satisfied: typing-extensions<5,>=4.7 in c:\\users\\philliprashaad\\.conda\\envs\\netflix_proj_env\\lib\\site-packages (from openai<2.0.0,>=1.24.0->langchain-openai) (4.10.0)\n",
      "Collecting regex>=2022.1.18 (from tiktoken<1,>=0.7->langchain-openai)\n",
      "  Downloading regex-2024.5.15-cp310-cp310-win_amd64.whl.metadata (41 kB)\n",
      "     ---------------------------------------- 0.0/42.0 kB ? eta -:--:--\n",
      "     -------------------------------------  41.0/42.0 kB 991.0 kB/s eta 0:00:01\n",
      "     -------------------------------------- 42.0/42.0 kB 511.8 kB/s eta 0:00:00\n",
      "Requirement already satisfied: requests>=2.26.0 in c:\\users\\philliprashaad\\.conda\\envs\\netflix_proj_env\\lib\\site-packages (from tiktoken<1,>=0.7->langchain-openai) (2.31.0)\n",
      "Requirement already satisfied: idna>=2.8 in c:\\users\\philliprashaad\\.conda\\envs\\netflix_proj_env\\lib\\site-packages (from anyio<5,>=3.5.0->openai<2.0.0,>=1.24.0->langchain-openai) (3.6)\n",
      "Requirement already satisfied: exceptiongroup>=1.0.2 in c:\\users\\philliprashaad\\.conda\\envs\\netflix_proj_env\\lib\\site-packages (from anyio<5,>=3.5.0->openai<2.0.0,>=1.24.0->langchain-openai) (1.2.0)\n",
      "Requirement already satisfied: certifi in c:\\users\\philliprashaad\\.conda\\envs\\netflix_proj_env\\lib\\site-packages (from httpx<1,>=0.23.0->openai<2.0.0,>=1.24.0->langchain-openai) (2024.2.2)\n",
      "Requirement already satisfied: httpcore==1.* in c:\\users\\philliprashaad\\.conda\\envs\\netflix_proj_env\\lib\\site-packages (from httpx<1,>=0.23.0->openai<2.0.0,>=1.24.0->langchain-openai) (1.0.4)\n",
      "Requirement already satisfied: h11<0.15,>=0.13 in c:\\users\\philliprashaad\\.conda\\envs\\netflix_proj_env\\lib\\site-packages (from httpcore==1.*->httpx<1,>=0.23.0->openai<2.0.0,>=1.24.0->langchain-openai) (0.14.0)\n",
      "Requirement already satisfied: jsonpointer>=1.9 in c:\\users\\philliprashaad\\.conda\\envs\\netflix_proj_env\\lib\\site-packages (from jsonpatch<2.0,>=1.33->langchain-core<0.3,>=0.1.46->langchain-openai) (2.4)\n",
      "Requirement already satisfied: orjson<4.0.0,>=3.9.14 in c:\\users\\philliprashaad\\.conda\\envs\\netflix_proj_env\\lib\\site-packages (from langsmith<0.2.0,>=0.1.0->langchain-core<0.3,>=0.1.46->langchain-openai) (3.9.15)\n",
      "Requirement already satisfied: annotated-types>=0.4.0 in c:\\users\\philliprashaad\\.conda\\envs\\netflix_proj_env\\lib\\site-packages (from pydantic<3,>=1->langchain-core<0.3,>=0.1.46->langchain-openai) (0.6.0)\n",
      "Requirement already satisfied: pydantic-core==2.16.3 in c:\\users\\philliprashaad\\.conda\\envs\\netflix_proj_env\\lib\\site-packages (from pydantic<3,>=1->langchain-core<0.3,>=0.1.46->langchain-openai) (2.16.3)\n",
      "Requirement already satisfied: charset-normalizer<4,>=2 in c:\\users\\philliprashaad\\.conda\\envs\\netflix_proj_env\\lib\\site-packages (from requests>=2.26.0->tiktoken<1,>=0.7->langchain-openai) (3.3.2)\n",
      "Requirement already satisfied: urllib3<3,>=1.21.1 in c:\\users\\philliprashaad\\.conda\\envs\\netflix_proj_env\\lib\\site-packages (from requests>=2.26.0->tiktoken<1,>=0.7->langchain-openai) (2.2.1)\n",
      "Requirement already satisfied: colorama in c:\\users\\philliprashaad\\.conda\\envs\\netflix_proj_env\\lib\\site-packages (from tqdm>4->openai<2.0.0,>=1.24.0->langchain-openai) (0.4.6)\n",
      "Downloading langchain_openai-0.1.7-py3-none-any.whl (34 kB)\n",
      "Downloading langchain_core-0.2.0-py3-none-any.whl (307 kB)\n",
      "   ---------------------------------------- 0.0/307.9 kB ? eta -:--:--\n",
      "   -------------------------- ------------- 204.8/307.9 kB 6.3 MB/s eta 0:00:01\n",
      "   ---------------------------------------- 307.9/307.9 kB 4.7 MB/s eta 0:00:00\n",
      "Downloading openai-1.30.1-py3-none-any.whl (320 kB)\n",
      "   ---------------------------------------- 0.0/320.6 kB ? eta -:--:--\n",
      "   ---------------------------------------- 320.6/320.6 kB 9.7 MB/s eta 0:00:00\n",
      "Downloading tiktoken-0.7.0-cp310-cp310-win_amd64.whl (798 kB)\n",
      "   ---------------------------------------- 0.0/798.9 kB ? eta -:--:--\n",
      "   --------------------------------------  798.7/798.9 kB 25.4 MB/s eta 0:00:01\n",
      "   --------------------------------------- 798.9/798.9 kB 12.5 MB/s eta 0:00:00\n",
      "Downloading regex-2024.5.15-cp310-cp310-win_amd64.whl (268 kB)\n",
      "   ---------------------------------------- 0.0/269.0 kB ? eta -:--:--\n",
      "   ---------------------------------------- 269.0/269.0 kB 8.3 MB/s eta 0:00:00\n",
      "Installing collected packages: regex, tiktoken, openai, langchain-core, langchain-openai\n",
      "  Attempting uninstall: openai\n",
      "    Found existing installation: openai 1.13.3\n",
      "    Uninstalling openai-1.13.3:\n",
      "      Successfully uninstalled openai-1.13.3\n",
      "  Attempting uninstall: langchain-core\n",
      "    Found existing installation: langchain-core 0.1.30\n",
      "    Uninstalling langchain-core-0.1.30:\n",
      "      Successfully uninstalled langchain-core-0.1.30\n",
      "Successfully installed langchain-core-0.2.0 langchain-openai-0.1.7 openai-1.30.1 regex-2024.5.15 tiktoken-0.7.0\n"
     ]
    },
    {
     "name": "stderr",
     "output_type": "stream",
     "text": [
      "ERROR: pip's dependency resolver does not currently take into account all the packages that are installed. This behaviour is the source of the following dependency conflicts.\n",
      "langchain 0.1.11 requires langchain-core<0.2,>=0.1.29, but you have langchain-core 0.2.0 which is incompatible.\n",
      "langchain-community 0.0.27 requires langchain-core<0.2.0,>=0.1.30, but you have langchain-core 0.2.0 which is incompatible.\n",
      "langchain-text-splitters 0.0.1 requires langchain-core<0.2.0,>=0.1.28, but you have langchain-core 0.2.0 which is incompatible.\n"
     ]
    }
   ],
   "source": [
    "!pip install langchain-openai"
   ]
  },
  {
   "cell_type": "code",
   "execution_count": null,
   "metadata": {},
   "outputs": [],
   "source": [
    "#STEP 3. Create a `ChatOpenAI` object with your API key and preferred model, then pass it to `load_llm_model`.\n",
    "##EXAMPLE GPT-3.5\n",
    "\n",
    "#3A. Create LLM model object\n",
    "#Load ChatOpenAI object from langchain\n",
    "from langchain_community.chat_models import ChatOpenAI\n",
    "#from langchain_openai import ChatOpenAI\n",
    "\n",
    "\n",
    "#Create object with api_key & model_name as input variables\n",
    "llm_model_3_5 = ChatOpenAI( api_key=os.getenv('OPENAI_API_KEY'), model_name=\"gpt-3.5-turbo\",   temperature=0)\n",
    "\n",
    "#llm_model_3_5"
   ]
  },
  {
   "cell_type": "code",
   "execution_count": 19,
   "metadata": {},
   "outputs": [
    {
     "name": "stdout",
     "output_type": "stream",
     "text": [
      "CPU times: total: 703 ms\n",
      "Wall time: 1.76 s\n"
     ]
    },
    {
     "data": {
      "text/plain": [
       "AIMessage(content='No, \"SpongeBob SquarePants\" is not original Netflix content. It is a popular animated television series created by Stephen Hillenburg that originally aired on Nickelodeon.')"
      ]
     },
     "execution_count": 19,
     "metadata": {},
     "output_type": "execute_result"
    }
   ],
   "source": [
    "%%time\n",
    "\n",
    "##EXAMPLE GPT-3.5\n",
    "### TIME - Wall time: 1.26 s ---NOTE: Runs 9x faster than gpt-3.5\n",
    "#Confirm gpt-3.5 model is working\n",
    "llm_model_3_5.invoke(\"Is title 'spongebob squarepants' original Netflix content?\")"
   ]
  },
  {
   "cell_type": "code",
   "execution_count": 21,
   "metadata": {},
   "outputs": [],
   "source": [
    "### THIS IS WHERE I CHOOSE OPENAI MODEL TO USE\n",
    "#3B. Use load desired model using class method load_llm_model\n",
    "netflix_class.load_llm_model(llm_model_3_5)\n",
    "\n",
    "#netflix_class.llm_model"
   ]
  },
  {
   "cell_type": "markdown",
   "metadata": {},
   "source": [
    "## 2D. Load LangChain Output Parser `StrOutputParser()`\n",
    "- Loaded a parser object StrOutputParser() from the LangChain library to parse the responses from the OpenAI API."
   ]
  },
  {
   "cell_type": "code",
   "execution_count": 22,
   "metadata": {},
   "outputs": [
    {
     "data": {
      "text/plain": [
       "StrOutputParser()"
      ]
     },
     "execution_count": 22,
     "metadata": {},
     "output_type": "execute_result"
    }
   ],
   "source": [
    "#Confirm parser is instantiated within Netflix Class\n",
    "netflix_class.output_parser"
   ]
  },
  {
   "cell_type": "markdown",
   "metadata": {},
   "source": [
    "## 2E. Create Few-Shot LLMChain\n",
    "- Created a LangChain few-shot LLMChain using FewShotPromptTemplate, ChatOpenAI, and StrOutputParser() as the components."
   ]
  },
  {
   "cell_type": "code",
   "execution_count": null,
   "metadata": {},
   "outputs": [],
   "source": [
    "#4. Call `chain_components` to prepare the execution pipeline. NOTE: run method without ()\n",
    "\n",
    "#Use method to create LLMchain within Class object\n",
    "netflix_class.chain_components()\n",
    "\n",
    "#Show method output\n",
    "netflix_class.parser_chain"
   ]
  },
  {
   "cell_type": "markdown",
   "metadata": {},
   "source": [
    "## 2F. Conirm LLM Chain is working"
   ]
  },
  {
   "cell_type": "code",
   "execution_count": 24,
   "metadata": {},
   "outputs": [
    {
     "name": "stdout",
     "output_type": "stream",
     "text": [
      "CPU times: total: 31.2 ms\n",
      "Wall time: 786 ms\n"
     ]
    },
    {
     "data": {
      "text/plain": [
       "{'input': \"Is title 'spongebob squarepants' original Netflix content?\",\n",
       " 'text': 'Answer No'}"
      ]
     },
     "execution_count": 24,
     "metadata": {},
     "output_type": "execute_result"
    }
   ],
   "source": [
    "%%time\n",
    "\n",
    "#5. Use `run_chain` with a specific question to get the processed response from the LLM.\n",
    "class_response = netflix_class.run_chain(\"Is title 'spongebob squarepants' original Netflix content?\")\n",
    "\n",
    "class_response"
   ]
  },
  {
   "cell_type": "code",
   "execution_count": null,
   "metadata": {},
   "outputs": [],
   "source": []
  },
  {
   "cell_type": "markdown",
   "metadata": {},
   "source": [
    "# 3. DATA ENHANCEMENT"
   ]
  },
  {
   "cell_type": "markdown",
   "metadata": {},
   "source": [
    "## 3A. **is_original**: Indicates whether a title is original Netflix content."
   ]
  },
  {
   "cell_type": "code",
   "execution_count": 42,
   "metadata": {},
   "outputs": [],
   "source": [
    "#a function that takes input string paramerter “input_title” and returns string \"Is title ‘{input_title}' original Netflix content?\"\n",
    "\n",
    "def format_title_question_isoriginal(input_title):\n",
    "  \"\"\"\n",
    "  This function takes an input string parameter \"input_title\" and returns a string in the format:\n",
    "  \"Is title '{input_title}' original Netflix content?\"\n",
    "  \"\"\"\n",
    "  return f\"Is title '{input_title}' original Netflix content?\"\n",
    "\n"
   ]
  },
  {
   "cell_type": "code",
   "execution_count": 43,
   "metadata": {},
   "outputs": [
    {
     "name": "stdout",
     "output_type": "stream",
     "text": [
      "Is title 'Stranger Things' original Netflix content?\n"
     ]
    }
   ],
   "source": [
    "# Example usage\n",
    "input_title = \"Stranger Things\"\n",
    "formatted_question = format_title_question_isoriginal(input_title)\n",
    "print(formatted_question)\n"
   ]
  },
  {
   "cell_type": "code",
   "execution_count": 44,
   "metadata": {},
   "outputs": [
    {
     "name": "stdout",
     "output_type": "stream",
     "text": [
      "(15595, 4)\n"
     ]
    },
    {
     "data": {
      "text/html": [
       "<div>\n",
       "<style scoped>\n",
       "    .dataframe tbody tr th:only-of-type {\n",
       "        vertical-align: middle;\n",
       "    }\n",
       "\n",
       "    .dataframe tbody tr th {\n",
       "        vertical-align: top;\n",
       "    }\n",
       "\n",
       "    .dataframe thead th {\n",
       "        text-align: right;\n",
       "    }\n",
       "</style>\n",
       "<table border=\"1\" class=\"dataframe\">\n",
       "  <thead>\n",
       "    <tr style=\"text-align: right;\">\n",
       "      <th></th>\n",
       "      <th>Clean_Title</th>\n",
       "      <th>Title_Counts</th>\n",
       "      <th>Clean_Title_Char_Len</th>\n",
       "      <th>is_original_Prompt</th>\n",
       "    </tr>\n",
       "  </thead>\n",
       "  <tbody>\n",
       "    <tr>\n",
       "      <th>0</th>\n",
       "      <td>naruto shippuden</td>\n",
       "      <td>21</td>\n",
       "      <td>16</td>\n",
       "      <td>Is title 'naruto shippuden' original Netflix c...</td>\n",
       "    </tr>\n",
       "    <tr>\n",
       "      <th>1</th>\n",
       "      <td>greys anatomy</td>\n",
       "      <td>19</td>\n",
       "      <td>13</td>\n",
       "      <td>Is title 'greys anatomy' original Netflix cont...</td>\n",
       "    </tr>\n",
       "    <tr>\n",
       "      <th>2</th>\n",
       "      <td>heartland 2007</td>\n",
       "      <td>16</td>\n",
       "      <td>14</td>\n",
       "      <td>Is title 'heartland 2007' original Netflix con...</td>\n",
       "    </tr>\n",
       "    <tr>\n",
       "      <th>3</th>\n",
       "      <td>gogglebox</td>\n",
       "      <td>16</td>\n",
       "      <td>9</td>\n",
       "      <td>Is title 'gogglebox' original Netflix content?</td>\n",
       "    </tr>\n",
       "    <tr>\n",
       "      <th>4</th>\n",
       "      <td>ncis</td>\n",
       "      <td>15</td>\n",
       "      <td>4</td>\n",
       "      <td>Is title 'ncis' original Netflix content?</td>\n",
       "    </tr>\n",
       "  </tbody>\n",
       "</table>\n",
       "</div>"
      ],
      "text/plain": [
       "        Clean_Title  Title_Counts  Clean_Title_Char_Len  \\\n",
       "0  naruto shippuden            21                    16   \n",
       "1     greys anatomy            19                    13   \n",
       "2    heartland 2007            16                    14   \n",
       "3         gogglebox            16                     9   \n",
       "4              ncis            15                     4   \n",
       "\n",
       "                                  is_original_Prompt  \n",
       "0  Is title 'naruto shippuden' original Netflix c...  \n",
       "1  Is title 'greys anatomy' original Netflix cont...  \n",
       "2  Is title 'heartland 2007' original Netflix con...  \n",
       "3     Is title 'gogglebox' original Netflix content?  \n",
       "4          Is title 'ncis' original Netflix content?  "
      ]
     },
     "execution_count": 44,
     "metadata": {},
     "output_type": "execute_result"
    }
   ],
   "source": [
    "#USE function to create Clean_Title_Prompt to be used with LLLM model\n",
    "unique_titles_df['is_original_Prompt'] = unique_titles_df['Clean_Title'].apply(format_title_question_isoriginal)\n",
    "\n",
    "\n",
    "print(unique_titles_df.shape)\n",
    "\n",
    "unique_titles_df.head()"
   ]
  },
  {
   "cell_type": "code",
   "execution_count": 45,
   "metadata": {},
   "outputs": [
    {
     "data": {
      "text/plain": [
       "{'input': \"Is title 'naruto shippuden' original Netflix content?\",\n",
       " 'text': 'Answer No'}"
      ]
     },
     "execution_count": 45,
     "metadata": {},
     "output_type": "execute_result"
    }
   ],
   "source": [
    "#Use class on single prompt in df\n",
    "single_response = netflix_class.run_chain(unique_titles_df[\"is_original_Prompt\"].iloc[0])\n",
    "\n",
    "single_response"
   ]
  },
  {
   "cell_type": "code",
   "execution_count": null,
   "metadata": {},
   "outputs": [],
   "source": []
  },
  {
   "cell_type": "markdown",
   "metadata": {},
   "source": [
    "## 3B. **content_type**: Categorizes the title as a \"Film\", \"Series\", or \"Documentary\"."
   ]
  },
  {
   "cell_type": "code",
   "execution_count": 46,
   "metadata": {},
   "outputs": [],
   "source": [
    "#FUNCTION 1\n",
    "def format_title_question_content_type(input_title):\n",
    "  \"\"\"\n",
    "  This function takes an input string parameter \"input_title\" and returns a string in the format:\n",
    "  \"Is Netflix title '{input_title}' a Series, Movie, or Documentary?\"\n",
    "  \"\"\"\n",
    "  return f\"Is Netflix title '{input_title}' a Series, Movie, or Documentary?\"\n",
    "\n"
   ]
  },
  {
   "cell_type": "code",
   "execution_count": 47,
   "metadata": {},
   "outputs": [
    {
     "name": "stdout",
     "output_type": "stream",
     "text": [
      "Is Netflix title 'Stranger Things' a Series, Movie, or Documentary?\n"
     ]
    }
   ],
   "source": [
    "# Example usage\n",
    "input_title = \"Stranger Things\"\n",
    "formatted_question = format_title_question_content_type(input_title)\n",
    "print(formatted_question)\n"
   ]
  },
  {
   "cell_type": "code",
   "execution_count": 48,
   "metadata": {},
   "outputs": [
    {
     "name": "stdout",
     "output_type": "stream",
     "text": [
      "(15595, 5)\n"
     ]
    },
    {
     "data": {
      "text/html": [
       "<div>\n",
       "<style scoped>\n",
       "    .dataframe tbody tr th:only-of-type {\n",
       "        vertical-align: middle;\n",
       "    }\n",
       "\n",
       "    .dataframe tbody tr th {\n",
       "        vertical-align: top;\n",
       "    }\n",
       "\n",
       "    .dataframe thead th {\n",
       "        text-align: right;\n",
       "    }\n",
       "</style>\n",
       "<table border=\"1\" class=\"dataframe\">\n",
       "  <thead>\n",
       "    <tr style=\"text-align: right;\">\n",
       "      <th></th>\n",
       "      <th>Clean_Title</th>\n",
       "      <th>Title_Counts</th>\n",
       "      <th>Clean_Title_Char_Len</th>\n",
       "      <th>is_original_Prompt</th>\n",
       "      <th>Content_Type_Prompt</th>\n",
       "    </tr>\n",
       "  </thead>\n",
       "  <tbody>\n",
       "    <tr>\n",
       "      <th>0</th>\n",
       "      <td>naruto shippuden</td>\n",
       "      <td>21</td>\n",
       "      <td>16</td>\n",
       "      <td>Is title 'naruto shippuden' original Netflix c...</td>\n",
       "      <td>Is Netflix title 'naruto shippuden' a Series, ...</td>\n",
       "    </tr>\n",
       "    <tr>\n",
       "      <th>1</th>\n",
       "      <td>greys anatomy</td>\n",
       "      <td>19</td>\n",
       "      <td>13</td>\n",
       "      <td>Is title 'greys anatomy' original Netflix cont...</td>\n",
       "      <td>Is Netflix title 'greys anatomy' a Series, Mov...</td>\n",
       "    </tr>\n",
       "    <tr>\n",
       "      <th>2</th>\n",
       "      <td>heartland 2007</td>\n",
       "      <td>16</td>\n",
       "      <td>14</td>\n",
       "      <td>Is title 'heartland 2007' original Netflix con...</td>\n",
       "      <td>Is Netflix title 'heartland 2007' a Series, Mo...</td>\n",
       "    </tr>\n",
       "    <tr>\n",
       "      <th>3</th>\n",
       "      <td>gogglebox</td>\n",
       "      <td>16</td>\n",
       "      <td>9</td>\n",
       "      <td>Is title 'gogglebox' original Netflix content?</td>\n",
       "      <td>Is Netflix title 'gogglebox' a Series, Movie, ...</td>\n",
       "    </tr>\n",
       "    <tr>\n",
       "      <th>4</th>\n",
       "      <td>ncis</td>\n",
       "      <td>15</td>\n",
       "      <td>4</td>\n",
       "      <td>Is title 'ncis' original Netflix content?</td>\n",
       "      <td>Is Netflix title 'ncis' a Series, Movie, or Do...</td>\n",
       "    </tr>\n",
       "  </tbody>\n",
       "</table>\n",
       "</div>"
      ],
      "text/plain": [
       "        Clean_Title  Title_Counts  Clean_Title_Char_Len  \\\n",
       "0  naruto shippuden            21                    16   \n",
       "1     greys anatomy            19                    13   \n",
       "2    heartland 2007            16                    14   \n",
       "3         gogglebox            16                     9   \n",
       "4              ncis            15                     4   \n",
       "\n",
       "                                  is_original_Prompt  \\\n",
       "0  Is title 'naruto shippuden' original Netflix c...   \n",
       "1  Is title 'greys anatomy' original Netflix cont...   \n",
       "2  Is title 'heartland 2007' original Netflix con...   \n",
       "3     Is title 'gogglebox' original Netflix content?   \n",
       "4          Is title 'ncis' original Netflix content?   \n",
       "\n",
       "                                 Content_Type_Prompt  \n",
       "0  Is Netflix title 'naruto shippuden' a Series, ...  \n",
       "1  Is Netflix title 'greys anatomy' a Series, Mov...  \n",
       "2  Is Netflix title 'heartland 2007' a Series, Mo...  \n",
       "3  Is Netflix title 'gogglebox' a Series, Movie, ...  \n",
       "4  Is Netflix title 'ncis' a Series, Movie, or Do...  "
      ]
     },
     "execution_count": 48,
     "metadata": {},
     "output_type": "execute_result"
    }
   ],
   "source": [
    "#STEP 1. CREATE COLUMN WITH QUESTION FORMATTER\n",
    "unique_titles_df['Content_Type_Prompt'] = unique_titles_df['Clean_Title'].apply(format_title_question_content_type)\n",
    "\n",
    "print(unique_titles_df.shape)\n",
    "\n",
    "unique_titles_df.head()"
   ]
  },
  {
   "cell_type": "code",
   "execution_count": 49,
   "metadata": {},
   "outputs": [
    {
     "data": {
      "text/plain": [
       "'Answer: Series'"
      ]
     },
     "execution_count": 49,
     "metadata": {},
     "output_type": "execute_result"
    }
   ],
   "source": [
    "#STEP 2B. Confirm the output for single response is a string\n",
    "#PHIL #3: Added another method run_chain_text_only to return only text from parser object\n",
    "single_response_text = netflix_class.run_chain_text_only(unique_titles_df[\"Content_Type_Prompt\"].iloc[0])\n",
    "\n",
    "single_response_text"
   ]
  },
  {
   "cell_type": "code",
   "execution_count": 50,
   "metadata": {},
   "outputs": [],
   "source": [
    "#Save to csv\n",
    "unique_titles_df.to_csv('06 - PROMPT_DATA - Netflix_Engagement_Data.csv', index=False)"
   ]
  },
  {
   "cell_type": "code",
   "execution_count": null,
   "metadata": {},
   "outputs": [],
   "source": []
  },
  {
   "cell_type": "markdown",
   "metadata": {},
   "source": [
    "## 3C. SAMPLE RUN\n",
    "- Use the Netflix LLM chain class to enhance data for a sample of 20 rows to verify its functionality."
   ]
  },
  {
   "cell_type": "code",
   "execution_count": 54,
   "metadata": {},
   "outputs": [
    {
     "name": "stdout",
     "output_type": "stream",
     "text": [
      "(20, 5)\n"
     ]
    },
    {
     "data": {
      "text/html": [
       "<div>\n",
       "<style scoped>\n",
       "    .dataframe tbody tr th:only-of-type {\n",
       "        vertical-align: middle;\n",
       "    }\n",
       "\n",
       "    .dataframe tbody tr th {\n",
       "        vertical-align: top;\n",
       "    }\n",
       "\n",
       "    .dataframe thead th {\n",
       "        text-align: right;\n",
       "    }\n",
       "</style>\n",
       "<table border=\"1\" class=\"dataframe\">\n",
       "  <thead>\n",
       "    <tr style=\"text-align: right;\">\n",
       "      <th></th>\n",
       "      <th>Clean_Title</th>\n",
       "      <th>Title_Counts</th>\n",
       "      <th>Clean_Title_Char_Len</th>\n",
       "      <th>is_original_Prompt</th>\n",
       "      <th>Content_Type_Prompt</th>\n",
       "    </tr>\n",
       "  </thead>\n",
       "  <tbody>\n",
       "    <tr>\n",
       "      <th>0</th>\n",
       "      <td>naruto shippuden</td>\n",
       "      <td>21</td>\n",
       "      <td>16</td>\n",
       "      <td>Is title 'naruto shippuden' original Netflix c...</td>\n",
       "      <td>Is Netflix title 'naruto shippuden' a Series, ...</td>\n",
       "    </tr>\n",
       "    <tr>\n",
       "      <th>1</th>\n",
       "      <td>greys anatomy</td>\n",
       "      <td>19</td>\n",
       "      <td>13</td>\n",
       "      <td>Is title 'greys anatomy' original Netflix cont...</td>\n",
       "      <td>Is Netflix title 'greys anatomy' a Series, Mov...</td>\n",
       "    </tr>\n",
       "    <tr>\n",
       "      <th>2</th>\n",
       "      <td>heartland 2007</td>\n",
       "      <td>16</td>\n",
       "      <td>14</td>\n",
       "      <td>Is title 'heartland 2007' original Netflix con...</td>\n",
       "      <td>Is Netflix title 'heartland 2007' a Series, Mo...</td>\n",
       "    </tr>\n",
       "    <tr>\n",
       "      <th>3</th>\n",
       "      <td>gogglebox</td>\n",
       "      <td>16</td>\n",
       "      <td>9</td>\n",
       "      <td>Is title 'gogglebox' original Netflix content?</td>\n",
       "      <td>Is Netflix title 'gogglebox' a Series, Movie, ...</td>\n",
       "    </tr>\n",
       "    <tr>\n",
       "      <th>4</th>\n",
       "      <td>ncis</td>\n",
       "      <td>15</td>\n",
       "      <td>4</td>\n",
       "      <td>Is title 'ncis' original Netflix content?</td>\n",
       "      <td>Is Netflix title 'ncis' a Series, Movie, or Do...</td>\n",
       "    </tr>\n",
       "  </tbody>\n",
       "</table>\n",
       "</div>"
      ],
      "text/plain": [
       "        Clean_Title  Title_Counts  Clean_Title_Char_Len  \\\n",
       "0  naruto shippuden            21                    16   \n",
       "1     greys anatomy            19                    13   \n",
       "2    heartland 2007            16                    14   \n",
       "3         gogglebox            16                     9   \n",
       "4              ncis            15                     4   \n",
       "\n",
       "                                  is_original_Prompt  \\\n",
       "0  Is title 'naruto shippuden' original Netflix c...   \n",
       "1  Is title 'greys anatomy' original Netflix cont...   \n",
       "2  Is title 'heartland 2007' original Netflix con...   \n",
       "3     Is title 'gogglebox' original Netflix content?   \n",
       "4          Is title 'ncis' original Netflix content?   \n",
       "\n",
       "                                 Content_Type_Prompt  \n",
       "0  Is Netflix title 'naruto shippuden' a Series, ...  \n",
       "1  Is Netflix title 'greys anatomy' a Series, Mov...  \n",
       "2  Is Netflix title 'heartland 2007' a Series, Mo...  \n",
       "3  Is Netflix title 'gogglebox' a Series, Movie, ...  \n",
       "4  Is Netflix title 'ncis' a Series, Movie, or Do...  "
      ]
     },
     "execution_count": 54,
     "metadata": {},
     "output_type": "execute_result"
    }
   ],
   "source": [
    "#STEP 2A. Use sample to experiment with and confirm class functio works\n",
    "sample_df = unique_titles_df.head(20).copy()\n",
    "\n",
    "print(sample_df.shape)\n",
    "\n",
    "sample_df.head()"
   ]
  },
  {
   "cell_type": "code",
   "execution_count": 55,
   "metadata": {},
   "outputs": [
    {
     "name": "stdout",
     "output_type": "stream",
     "text": [
      "(20, 6)\n",
      "CPU times: total: 2.38 s\n",
      "Wall time: 11.5 s\n"
     ]
    },
    {
     "data": {
      "text/html": [
       "<div>\n",
       "<style scoped>\n",
       "    .dataframe tbody tr th:only-of-type {\n",
       "        vertical-align: middle;\n",
       "    }\n",
       "\n",
       "    .dataframe tbody tr th {\n",
       "        vertical-align: top;\n",
       "    }\n",
       "\n",
       "    .dataframe thead th {\n",
       "        text-align: right;\n",
       "    }\n",
       "</style>\n",
       "<table border=\"1\" class=\"dataframe\">\n",
       "  <thead>\n",
       "    <tr style=\"text-align: right;\">\n",
       "      <th></th>\n",
       "      <th>Clean_Title</th>\n",
       "      <th>Title_Counts</th>\n",
       "      <th>Clean_Title_Char_Len</th>\n",
       "      <th>is_original_Prompt</th>\n",
       "      <th>Content_Type_Prompt</th>\n",
       "      <th>is_original</th>\n",
       "    </tr>\n",
       "  </thead>\n",
       "  <tbody>\n",
       "    <tr>\n",
       "      <th>0</th>\n",
       "      <td>naruto shippuden</td>\n",
       "      <td>21</td>\n",
       "      <td>16</td>\n",
       "      <td>Is title 'naruto shippuden' original Netflix c...</td>\n",
       "      <td>Is Netflix title 'naruto shippuden' a Series, ...</td>\n",
       "      <td>Answer No</td>\n",
       "    </tr>\n",
       "    <tr>\n",
       "      <th>1</th>\n",
       "      <td>greys anatomy</td>\n",
       "      <td>19</td>\n",
       "      <td>13</td>\n",
       "      <td>Is title 'greys anatomy' original Netflix cont...</td>\n",
       "      <td>Is Netflix title 'greys anatomy' a Series, Mov...</td>\n",
       "      <td>Answer No</td>\n",
       "    </tr>\n",
       "    <tr>\n",
       "      <th>2</th>\n",
       "      <td>heartland 2007</td>\n",
       "      <td>16</td>\n",
       "      <td>14</td>\n",
       "      <td>Is title 'heartland 2007' original Netflix con...</td>\n",
       "      <td>Is Netflix title 'heartland 2007' a Series, Mo...</td>\n",
       "      <td>Answer No</td>\n",
       "    </tr>\n",
       "    <tr>\n",
       "      <th>3</th>\n",
       "      <td>gogglebox</td>\n",
       "      <td>16</td>\n",
       "      <td>9</td>\n",
       "      <td>Is title 'gogglebox' original Netflix content?</td>\n",
       "      <td>Is Netflix title 'gogglebox' a Series, Movie, ...</td>\n",
       "      <td>Answer No</td>\n",
       "    </tr>\n",
       "    <tr>\n",
       "      <th>4</th>\n",
       "      <td>ncis</td>\n",
       "      <td>15</td>\n",
       "      <td>4</td>\n",
       "      <td>Is title 'ncis' original Netflix content?</td>\n",
       "      <td>Is Netflix title 'ncis' a Series, Movie, or Do...</td>\n",
       "      <td>Answer No</td>\n",
       "    </tr>\n",
       "    <tr>\n",
       "      <th>5</th>\n",
       "      <td>murdoch mysteries</td>\n",
       "      <td>15</td>\n",
       "      <td>17</td>\n",
       "      <td>Is title 'murdoch mysteries' original Netflix ...</td>\n",
       "      <td>Is Netflix title 'murdoch mysteries' a Series,...</td>\n",
       "      <td>Answer No</td>\n",
       "    </tr>\n",
       "    <tr>\n",
       "      <th>6</th>\n",
       "      <td>supernatural 2005</td>\n",
       "      <td>15</td>\n",
       "      <td>17</td>\n",
       "      <td>Is title 'supernatural 2005' original Netflix ...</td>\n",
       "      <td>Is Netflix title 'supernatural 2005' a Series,...</td>\n",
       "      <td>Answer No</td>\n",
       "    </tr>\n",
       "    <tr>\n",
       "      <th>7</th>\n",
       "      <td>its always sunny in philadelphia</td>\n",
       "      <td>15</td>\n",
       "      <td>32</td>\n",
       "      <td>Is title 'its always sunny in philadelphia' or...</td>\n",
       "      <td>Is Netflix title 'its always sunny in philadel...</td>\n",
       "      <td>Answer No</td>\n",
       "    </tr>\n",
       "    <tr>\n",
       "      <th>8</th>\n",
       "      <td>archer 2009</td>\n",
       "      <td>13</td>\n",
       "      <td>11</td>\n",
       "      <td>Is title 'archer 2009' original Netflix content?</td>\n",
       "      <td>Is Netflix title 'archer 2009' a Series, Movie...</td>\n",
       "      <td>Answer No</td>\n",
       "    </tr>\n",
       "    <tr>\n",
       "      <th>9</th>\n",
       "      <td>two and a half men</td>\n",
       "      <td>12</td>\n",
       "      <td>18</td>\n",
       "      <td>Is title 'two and a half men' original Netflix...</td>\n",
       "      <td>Is Netflix title 'two and a half men' a Series...</td>\n",
       "      <td>Answer No</td>\n",
       "    </tr>\n",
       "    <tr>\n",
       "      <th>10</th>\n",
       "      <td>the big bang theory</td>\n",
       "      <td>12</td>\n",
       "      <td>19</td>\n",
       "      <td>Is title 'the big bang theory' original Netfli...</td>\n",
       "      <td>Is Netflix title 'the big bang theory' a Serie...</td>\n",
       "      <td>Answer No</td>\n",
       "    </tr>\n",
       "    <tr>\n",
       "      <th>11</th>\n",
       "      <td>trailer park boys</td>\n",
       "      <td>12</td>\n",
       "      <td>17</td>\n",
       "      <td>Is title 'trailer park boys' original Netflix ...</td>\n",
       "      <td>Is Netflix title 'trailer park boys' a Series,...</td>\n",
       "      <td>Answer No</td>\n",
       "    </tr>\n",
       "    <tr>\n",
       "      <th>12</th>\n",
       "      <td>upinipin</td>\n",
       "      <td>11</td>\n",
       "      <td>8</td>\n",
       "      <td>Is title 'upinipin' original Netflix content?</td>\n",
       "      <td>Is Netflix title 'upinipin' a Series, Movie, o...</td>\n",
       "      <td>Answer No</td>\n",
       "    </tr>\n",
       "    <tr>\n",
       "      <th>13</th>\n",
       "      <td>shameless us</td>\n",
       "      <td>11</td>\n",
       "      <td>12</td>\n",
       "      <td>Is title 'shameless us' original Netflix content?</td>\n",
       "      <td>Is Netflix title 'shameless us' a Series, Movi...</td>\n",
       "      <td>Answer No</td>\n",
       "    </tr>\n",
       "    <tr>\n",
       "      <th>14</th>\n",
       "      <td>the walking dead</td>\n",
       "      <td>11</td>\n",
       "      <td>16</td>\n",
       "      <td>Is title 'the walking dead' original Netflix c...</td>\n",
       "      <td>Is Netflix title 'the walking dead' a Series, ...</td>\n",
       "      <td>Answer No</td>\n",
       "    </tr>\n",
       "    <tr>\n",
       "      <th>15</th>\n",
       "      <td>hubert und staller</td>\n",
       "      <td>10</td>\n",
       "      <td>18</td>\n",
       "      <td>Is title 'hubert und staller' original Netflix...</td>\n",
       "      <td>Is Netflix title 'hubert und staller' a Series...</td>\n",
       "      <td>Answer No</td>\n",
       "    </tr>\n",
       "    <tr>\n",
       "      <th>16</th>\n",
       "      <td>ranczo</td>\n",
       "      <td>10</td>\n",
       "      <td>6</td>\n",
       "      <td>Is title 'ranczo' original Netflix content?</td>\n",
       "      <td>Is Netflix title 'ranczo' a Series, Movie, or ...</td>\n",
       "      <td>Answer No</td>\n",
       "    </tr>\n",
       "    <tr>\n",
       "      <th>17</th>\n",
       "      <td>friends 1994</td>\n",
       "      <td>10</td>\n",
       "      <td>12</td>\n",
       "      <td>Is title 'friends 1994' original Netflix content?</td>\n",
       "      <td>Is Netflix title 'friends 1994' a Series, Movi...</td>\n",
       "      <td>Answer No</td>\n",
       "    </tr>\n",
       "    <tr>\n",
       "      <th>18</th>\n",
       "      <td>solitary gourmet</td>\n",
       "      <td>10</td>\n",
       "      <td>16</td>\n",
       "      <td>Is title 'solitary gourmet' original Netflix c...</td>\n",
       "      <td>Is Netflix title 'solitary gourmet' a Series, ...</td>\n",
       "      <td>Answer No</td>\n",
       "    </tr>\n",
       "    <tr>\n",
       "      <th>19</th>\n",
       "      <td>the blacklist</td>\n",
       "      <td>10</td>\n",
       "      <td>13</td>\n",
       "      <td>Is title 'the blacklist' original Netflix cont...</td>\n",
       "      <td>Is Netflix title 'the blacklist' a Series, Mov...</td>\n",
       "      <td>Answer No</td>\n",
       "    </tr>\n",
       "  </tbody>\n",
       "</table>\n",
       "</div>"
      ],
      "text/plain": [
       "                         Clean_Title  Title_Counts  Clean_Title_Char_Len  \\\n",
       "0                   naruto shippuden            21                    16   \n",
       "1                      greys anatomy            19                    13   \n",
       "2                     heartland 2007            16                    14   \n",
       "3                          gogglebox            16                     9   \n",
       "4                               ncis            15                     4   \n",
       "5                  murdoch mysteries            15                    17   \n",
       "6                  supernatural 2005            15                    17   \n",
       "7   its always sunny in philadelphia            15                    32   \n",
       "8                        archer 2009            13                    11   \n",
       "9                 two and a half men            12                    18   \n",
       "10               the big bang theory            12                    19   \n",
       "11                 trailer park boys            12                    17   \n",
       "12                          upinipin            11                     8   \n",
       "13                      shameless us            11                    12   \n",
       "14                  the walking dead            11                    16   \n",
       "15                hubert und staller            10                    18   \n",
       "16                            ranczo            10                     6   \n",
       "17                      friends 1994            10                    12   \n",
       "18                  solitary gourmet            10                    16   \n",
       "19                     the blacklist            10                    13   \n",
       "\n",
       "                                   is_original_Prompt  \\\n",
       "0   Is title 'naruto shippuden' original Netflix c...   \n",
       "1   Is title 'greys anatomy' original Netflix cont...   \n",
       "2   Is title 'heartland 2007' original Netflix con...   \n",
       "3      Is title 'gogglebox' original Netflix content?   \n",
       "4           Is title 'ncis' original Netflix content?   \n",
       "5   Is title 'murdoch mysteries' original Netflix ...   \n",
       "6   Is title 'supernatural 2005' original Netflix ...   \n",
       "7   Is title 'its always sunny in philadelphia' or...   \n",
       "8    Is title 'archer 2009' original Netflix content?   \n",
       "9   Is title 'two and a half men' original Netflix...   \n",
       "10  Is title 'the big bang theory' original Netfli...   \n",
       "11  Is title 'trailer park boys' original Netflix ...   \n",
       "12      Is title 'upinipin' original Netflix content?   \n",
       "13  Is title 'shameless us' original Netflix content?   \n",
       "14  Is title 'the walking dead' original Netflix c...   \n",
       "15  Is title 'hubert und staller' original Netflix...   \n",
       "16        Is title 'ranczo' original Netflix content?   \n",
       "17  Is title 'friends 1994' original Netflix content?   \n",
       "18  Is title 'solitary gourmet' original Netflix c...   \n",
       "19  Is title 'the blacklist' original Netflix cont...   \n",
       "\n",
       "                                  Content_Type_Prompt is_original  \n",
       "0   Is Netflix title 'naruto shippuden' a Series, ...   Answer No  \n",
       "1   Is Netflix title 'greys anatomy' a Series, Mov...   Answer No  \n",
       "2   Is Netflix title 'heartland 2007' a Series, Mo...   Answer No  \n",
       "3   Is Netflix title 'gogglebox' a Series, Movie, ...   Answer No  \n",
       "4   Is Netflix title 'ncis' a Series, Movie, or Do...   Answer No  \n",
       "5   Is Netflix title 'murdoch mysteries' a Series,...   Answer No  \n",
       "6   Is Netflix title 'supernatural 2005' a Series,...   Answer No  \n",
       "7   Is Netflix title 'its always sunny in philadel...   Answer No  \n",
       "8   Is Netflix title 'archer 2009' a Series, Movie...   Answer No  \n",
       "9   Is Netflix title 'two and a half men' a Series...   Answer No  \n",
       "10  Is Netflix title 'the big bang theory' a Serie...   Answer No  \n",
       "11  Is Netflix title 'trailer park boys' a Series,...   Answer No  \n",
       "12  Is Netflix title 'upinipin' a Series, Movie, o...   Answer No  \n",
       "13  Is Netflix title 'shameless us' a Series, Movi...   Answer No  \n",
       "14  Is Netflix title 'the walking dead' a Series, ...   Answer No  \n",
       "15  Is Netflix title 'hubert und staller' a Series...   Answer No  \n",
       "16  Is Netflix title 'ranczo' a Series, Movie, or ...   Answer No  \n",
       "17  Is Netflix title 'friends 1994' a Series, Movi...   Answer No  \n",
       "18  Is Netflix title 'solitary gourmet' a Series, ...   Answer No  \n",
       "19  Is Netflix title 'the blacklist' a Series, Mov...   Answer No  "
      ]
     },
     "execution_count": 55,
     "metadata": {},
     "output_type": "execute_result"
    }
   ],
   "source": [
    "%%time\n",
    "\n",
    "#Create Prompt_Response with class method run_chain_text_only\n",
    "sample_df['is_original'] = sample_df[\"is_original_Prompt\"].apply(netflix_class.run_chain_text_only)\n",
    "\n",
    "print(sample_df.shape)\n",
    "\n",
    "sample_df"
   ]
  },
  {
   "cell_type": "code",
   "execution_count": 56,
   "metadata": {},
   "outputs": [
    {
     "name": "stdout",
     "output_type": "stream",
     "text": [
      "(20, 7)\n",
      "CPU times: total: 1.62 s\n",
      "Wall time: 12.2 s\n"
     ]
    },
    {
     "data": {
      "text/html": [
       "<div>\n",
       "<style scoped>\n",
       "    .dataframe tbody tr th:only-of-type {\n",
       "        vertical-align: middle;\n",
       "    }\n",
       "\n",
       "    .dataframe tbody tr th {\n",
       "        vertical-align: top;\n",
       "    }\n",
       "\n",
       "    .dataframe thead th {\n",
       "        text-align: right;\n",
       "    }\n",
       "</style>\n",
       "<table border=\"1\" class=\"dataframe\">\n",
       "  <thead>\n",
       "    <tr style=\"text-align: right;\">\n",
       "      <th></th>\n",
       "      <th>Clean_Title</th>\n",
       "      <th>Title_Counts</th>\n",
       "      <th>Clean_Title_Char_Len</th>\n",
       "      <th>is_original_Prompt</th>\n",
       "      <th>Content_Type_Prompt</th>\n",
       "      <th>is_original</th>\n",
       "      <th>content_type</th>\n",
       "    </tr>\n",
       "  </thead>\n",
       "  <tbody>\n",
       "    <tr>\n",
       "      <th>0</th>\n",
       "      <td>naruto shippuden</td>\n",
       "      <td>21</td>\n",
       "      <td>16</td>\n",
       "      <td>Is title 'naruto shippuden' original Netflix c...</td>\n",
       "      <td>Is Netflix title 'naruto shippuden' a Series, ...</td>\n",
       "      <td>Answer No</td>\n",
       "      <td>Answer: Series</td>\n",
       "    </tr>\n",
       "    <tr>\n",
       "      <th>1</th>\n",
       "      <td>greys anatomy</td>\n",
       "      <td>19</td>\n",
       "      <td>13</td>\n",
       "      <td>Is title 'greys anatomy' original Netflix cont...</td>\n",
       "      <td>Is Netflix title 'greys anatomy' a Series, Mov...</td>\n",
       "      <td>Answer No</td>\n",
       "      <td>Answer: Series</td>\n",
       "    </tr>\n",
       "    <tr>\n",
       "      <th>2</th>\n",
       "      <td>heartland 2007</td>\n",
       "      <td>16</td>\n",
       "      <td>14</td>\n",
       "      <td>Is title 'heartland 2007' original Netflix con...</td>\n",
       "      <td>Is Netflix title 'heartland 2007' a Series, Mo...</td>\n",
       "      <td>Answer No</td>\n",
       "      <td>Answer: Series</td>\n",
       "    </tr>\n",
       "    <tr>\n",
       "      <th>3</th>\n",
       "      <td>gogglebox</td>\n",
       "      <td>16</td>\n",
       "      <td>9</td>\n",
       "      <td>Is title 'gogglebox' original Netflix content?</td>\n",
       "      <td>Is Netflix title 'gogglebox' a Series, Movie, ...</td>\n",
       "      <td>Answer No</td>\n",
       "      <td>Answer: Series</td>\n",
       "    </tr>\n",
       "    <tr>\n",
       "      <th>4</th>\n",
       "      <td>ncis</td>\n",
       "      <td>15</td>\n",
       "      <td>4</td>\n",
       "      <td>Is title 'ncis' original Netflix content?</td>\n",
       "      <td>Is Netflix title 'ncis' a Series, Movie, or Do...</td>\n",
       "      <td>Answer No</td>\n",
       "      <td>Answer: Series</td>\n",
       "    </tr>\n",
       "    <tr>\n",
       "      <th>5</th>\n",
       "      <td>murdoch mysteries</td>\n",
       "      <td>15</td>\n",
       "      <td>17</td>\n",
       "      <td>Is title 'murdoch mysteries' original Netflix ...</td>\n",
       "      <td>Is Netflix title 'murdoch mysteries' a Series,...</td>\n",
       "      <td>Answer No</td>\n",
       "      <td>Answer: Series</td>\n",
       "    </tr>\n",
       "    <tr>\n",
       "      <th>6</th>\n",
       "      <td>supernatural 2005</td>\n",
       "      <td>15</td>\n",
       "      <td>17</td>\n",
       "      <td>Is title 'supernatural 2005' original Netflix ...</td>\n",
       "      <td>Is Netflix title 'supernatural 2005' a Series,...</td>\n",
       "      <td>Answer No</td>\n",
       "      <td>Answer: Series</td>\n",
       "    </tr>\n",
       "    <tr>\n",
       "      <th>7</th>\n",
       "      <td>its always sunny in philadelphia</td>\n",
       "      <td>15</td>\n",
       "      <td>32</td>\n",
       "      <td>Is title 'its always sunny in philadelphia' or...</td>\n",
       "      <td>Is Netflix title 'its always sunny in philadel...</td>\n",
       "      <td>Answer No</td>\n",
       "      <td>Answer: Series</td>\n",
       "    </tr>\n",
       "    <tr>\n",
       "      <th>8</th>\n",
       "      <td>archer 2009</td>\n",
       "      <td>13</td>\n",
       "      <td>11</td>\n",
       "      <td>Is title 'archer 2009' original Netflix content?</td>\n",
       "      <td>Is Netflix title 'archer 2009' a Series, Movie...</td>\n",
       "      <td>Answer No</td>\n",
       "      <td>Answer: Series</td>\n",
       "    </tr>\n",
       "    <tr>\n",
       "      <th>9</th>\n",
       "      <td>two and a half men</td>\n",
       "      <td>12</td>\n",
       "      <td>18</td>\n",
       "      <td>Is title 'two and a half men' original Netflix...</td>\n",
       "      <td>Is Netflix title 'two and a half men' a Series...</td>\n",
       "      <td>Answer No</td>\n",
       "      <td>Answer: Series</td>\n",
       "    </tr>\n",
       "  </tbody>\n",
       "</table>\n",
       "</div>"
      ],
      "text/plain": [
       "                        Clean_Title  Title_Counts  Clean_Title_Char_Len  \\\n",
       "0                  naruto shippuden            21                    16   \n",
       "1                     greys anatomy            19                    13   \n",
       "2                    heartland 2007            16                    14   \n",
       "3                         gogglebox            16                     9   \n",
       "4                              ncis            15                     4   \n",
       "5                 murdoch mysteries            15                    17   \n",
       "6                 supernatural 2005            15                    17   \n",
       "7  its always sunny in philadelphia            15                    32   \n",
       "8                       archer 2009            13                    11   \n",
       "9                two and a half men            12                    18   \n",
       "\n",
       "                                  is_original_Prompt  \\\n",
       "0  Is title 'naruto shippuden' original Netflix c...   \n",
       "1  Is title 'greys anatomy' original Netflix cont...   \n",
       "2  Is title 'heartland 2007' original Netflix con...   \n",
       "3     Is title 'gogglebox' original Netflix content?   \n",
       "4          Is title 'ncis' original Netflix content?   \n",
       "5  Is title 'murdoch mysteries' original Netflix ...   \n",
       "6  Is title 'supernatural 2005' original Netflix ...   \n",
       "7  Is title 'its always sunny in philadelphia' or...   \n",
       "8   Is title 'archer 2009' original Netflix content?   \n",
       "9  Is title 'two and a half men' original Netflix...   \n",
       "\n",
       "                                 Content_Type_Prompt is_original  \\\n",
       "0  Is Netflix title 'naruto shippuden' a Series, ...   Answer No   \n",
       "1  Is Netflix title 'greys anatomy' a Series, Mov...   Answer No   \n",
       "2  Is Netflix title 'heartland 2007' a Series, Mo...   Answer No   \n",
       "3  Is Netflix title 'gogglebox' a Series, Movie, ...   Answer No   \n",
       "4  Is Netflix title 'ncis' a Series, Movie, or Do...   Answer No   \n",
       "5  Is Netflix title 'murdoch mysteries' a Series,...   Answer No   \n",
       "6  Is Netflix title 'supernatural 2005' a Series,...   Answer No   \n",
       "7  Is Netflix title 'its always sunny in philadel...   Answer No   \n",
       "8  Is Netflix title 'archer 2009' a Series, Movie...   Answer No   \n",
       "9  Is Netflix title 'two and a half men' a Series...   Answer No   \n",
       "\n",
       "     content_type  \n",
       "0  Answer: Series  \n",
       "1  Answer: Series  \n",
       "2  Answer: Series  \n",
       "3  Answer: Series  \n",
       "4  Answer: Series  \n",
       "5  Answer: Series  \n",
       "6  Answer: Series  \n",
       "7  Answer: Series  \n",
       "8  Answer: Series  \n",
       "9  Answer: Series  "
      ]
     },
     "execution_count": 56,
     "metadata": {},
     "output_type": "execute_result"
    }
   ],
   "source": [
    "%%time\n",
    "\n",
    "#STEP 2C. Confirm it works on entire df column\n",
    "#Create Prompt_Response with class method run_chain_text_only\n",
    "#NOTE: 20 rows = 11s for model gpt-3.5\n",
    "sample_df['content_type'] = sample_df[\"Content_Type_Prompt\"].apply(netflix_class.run_chain_text_only)\n",
    "\n",
    "print(sample_df.shape)\n",
    "\n",
    "sample_df.head(10)"
   ]
  },
  {
   "cell_type": "code",
   "execution_count": null,
   "metadata": {},
   "outputs": [],
   "source": []
  },
  {
   "cell_type": "markdown",
   "metadata": {},
   "source": [
    "## 3D. BATCH PROCESSING\n",
    "- To avoid timeout errors and API rate limits, data enhancement must be performed through batch calls."
   ]
  },
  {
   "cell_type": "code",
   "execution_count": 51,
   "metadata": {},
   "outputs": [],
   "source": [
    "#FUNCTION 2\n",
    "import pandas as pd\n",
    "\n",
    "def chunk_dataframe(df, row_chunk=1000):\n",
    "    \"\"\"\n",
    "    Splits a DataFrame into chunks of a specified size.\n",
    "\n",
    "    Parameters:\n",
    "    - df: pandas.DataFrame, the DataFrame to split.\n",
    "    - row_chunk: int, the number of rows each chunk should have.\n",
    "\n",
    "    Returns:\n",
    "    - List[pd.DataFrame], a list of DataFrame chunks.\n",
    "    \"\"\"\n",
    "    # Ensure row_chunk is a positive integer\n",
    "    if row_chunk <= 0:\n",
    "        raise ValueError(\"row_chunk must be a positive integer\")\n",
    "\n",
    "    # Calculate the number of chunks\n",
    "    num_chunks = (len(df) + row_chunk - 1) // row_chunk  # Ceiling division\n",
    "\n",
    "    # Split the DataFrame into chunks\n",
    "    df_chunks = [df.iloc[i*row_chunk : (i+1)*row_chunk] for i in range(num_chunks)]\n",
    "\n",
    "    return df_chunks\n",
    "\n"
   ]
  },
  {
   "cell_type": "code",
   "execution_count": 52,
   "metadata": {},
   "outputs": [],
   "source": [
    "#FUNCTION 3\n",
    "#ADDED Dynmaic Input parameters for easier use with LLL Few-Show functions\n",
    "\n",
    "def process_and_save_dataframes(df_chunks, classobjectfunc, files_folder_path, prompt_col='Content_Type_Prompt', output_col='content_type'):\n",
    "    \"\"\"Process a list of DataFrames by applying a custom function and save to CSV.\n",
    "\n",
    "    Args:\n",
    "        df_chunks (list): List of DataFrame chunks.\n",
    "        netflix_class: An object that has a method `run_chain_text_only` for processing.\n",
    "    \"\"\"\n",
    "    chunk_size = df_chunks[0].shape[0]\n",
    "\n",
    "    chunk_counter_name = 0\n",
    "\n",
    "    #empty list to caputre output dfs\n",
    "    output_df_list = []\n",
    "\n",
    "    for index, df in enumerate(df_chunks):\n",
    "        chunk_counter_name = index *chunk_size + chunk_size\n",
    "\n",
    "\n",
    "        print(f'IDX:--{index}--{chunk_counter_name}\\n\\n')\n",
    "        # Apply the custom function to create the 'is_original' column\n",
    "        df[output_col] = df[prompt_col].apply(classobjectfunc)\n",
    "\n",
    "        # Save the modified DataFrame to a CSV file\n",
    "        df.to_csv(files_folder_path+f\"10 - E - df_chunk_{index}_{chunk_counter_name}.csv\", index=False)\n",
    "\n",
    "        output_df_list.append(df)\n",
    "\n",
    "    return output_df_list\n",
    "\n"
   ]
  },
  {
   "cell_type": "code",
   "execution_count": 53,
   "metadata": {},
   "outputs": [
    {
     "name": "stdout",
     "output_type": "stream",
     "text": [
      "TOTAL DF CHUNKS:  16\n",
      "(1000, 5)\n"
     ]
    },
    {
     "data": {
      "text/html": [
       "<div>\n",
       "<style scoped>\n",
       "    .dataframe tbody tr th:only-of-type {\n",
       "        vertical-align: middle;\n",
       "    }\n",
       "\n",
       "    .dataframe tbody tr th {\n",
       "        vertical-align: top;\n",
       "    }\n",
       "\n",
       "    .dataframe thead th {\n",
       "        text-align: right;\n",
       "    }\n",
       "</style>\n",
       "<table border=\"1\" class=\"dataframe\">\n",
       "  <thead>\n",
       "    <tr style=\"text-align: right;\">\n",
       "      <th></th>\n",
       "      <th>Clean_Title</th>\n",
       "      <th>Title_Counts</th>\n",
       "      <th>Clean_Title_Char_Len</th>\n",
       "      <th>is_original_Prompt</th>\n",
       "      <th>Content_Type_Prompt</th>\n",
       "    </tr>\n",
       "  </thead>\n",
       "  <tbody>\n",
       "    <tr>\n",
       "      <th>0</th>\n",
       "      <td>naruto shippuden</td>\n",
       "      <td>21</td>\n",
       "      <td>16</td>\n",
       "      <td>Is title 'naruto shippuden' original Netflix c...</td>\n",
       "      <td>Is Netflix title 'naruto shippuden' a Series, ...</td>\n",
       "    </tr>\n",
       "    <tr>\n",
       "      <th>1</th>\n",
       "      <td>greys anatomy</td>\n",
       "      <td>19</td>\n",
       "      <td>13</td>\n",
       "      <td>Is title 'greys anatomy' original Netflix cont...</td>\n",
       "      <td>Is Netflix title 'greys anatomy' a Series, Mov...</td>\n",
       "    </tr>\n",
       "    <tr>\n",
       "      <th>2</th>\n",
       "      <td>heartland 2007</td>\n",
       "      <td>16</td>\n",
       "      <td>14</td>\n",
       "      <td>Is title 'heartland 2007' original Netflix con...</td>\n",
       "      <td>Is Netflix title 'heartland 2007' a Series, Mo...</td>\n",
       "    </tr>\n",
       "    <tr>\n",
       "      <th>3</th>\n",
       "      <td>gogglebox</td>\n",
       "      <td>16</td>\n",
       "      <td>9</td>\n",
       "      <td>Is title 'gogglebox' original Netflix content?</td>\n",
       "      <td>Is Netflix title 'gogglebox' a Series, Movie, ...</td>\n",
       "    </tr>\n",
       "    <tr>\n",
       "      <th>4</th>\n",
       "      <td>ncis</td>\n",
       "      <td>15</td>\n",
       "      <td>4</td>\n",
       "      <td>Is title 'ncis' original Netflix content?</td>\n",
       "      <td>Is Netflix title 'ncis' a Series, Movie, or Do...</td>\n",
       "    </tr>\n",
       "  </tbody>\n",
       "</table>\n",
       "</div>"
      ],
      "text/plain": [
       "        Clean_Title  Title_Counts  Clean_Title_Char_Len  \\\n",
       "0  naruto shippuden            21                    16   \n",
       "1     greys anatomy            19                    13   \n",
       "2    heartland 2007            16                    14   \n",
       "3         gogglebox            16                     9   \n",
       "4              ncis            15                     4   \n",
       "\n",
       "                                  is_original_Prompt  \\\n",
       "0  Is title 'naruto shippuden' original Netflix c...   \n",
       "1  Is title 'greys anatomy' original Netflix cont...   \n",
       "2  Is title 'heartland 2007' original Netflix con...   \n",
       "3     Is title 'gogglebox' original Netflix content?   \n",
       "4          Is title 'ncis' original Netflix content?   \n",
       "\n",
       "                                 Content_Type_Prompt  \n",
       "0  Is Netflix title 'naruto shippuden' a Series, ...  \n",
       "1  Is Netflix title 'greys anatomy' a Series, Mov...  \n",
       "2  Is Netflix title 'heartland 2007' a Series, Mo...  \n",
       "3  Is Netflix title 'gogglebox' a Series, Movie, ...  \n",
       "4  Is Netflix title 'ncis' a Series, Movie, or Do...  "
      ]
     },
     "execution_count": 53,
     "metadata": {},
     "output_type": "execute_result"
    }
   ],
   "source": [
    "#STEP 3. SPLIT DF INTO CHUNKS\n",
    "#Use function to chunk unique titles df\n",
    "chunks_df_list = chunk_dataframe(df=unique_titles_df, row_chunk=1000)\n",
    "\n",
    "print('TOTAL DF CHUNKS: ',len(chunks_df_list))\n",
    "\n",
    "#Show df shape\n",
    "print(chunks_df_list[0].shape)\n",
    "\n",
    "#Show df head\n",
    "chunks_df_list[0].head()\n"
   ]
  },
  {
   "cell_type": "code",
   "execution_count": 57,
   "metadata": {},
   "outputs": [
    {
     "data": {
      "text/plain": [
       "'csv_chunks/'"
      ]
     },
     "execution_count": 57,
     "metadata": {},
     "output_type": "execute_result"
    }
   ],
   "source": [
    "csv_folder_path = 'csv_chunks/'\n",
    "\n",
    "csv_folder_path"
   ]
  },
  {
   "cell_type": "code",
   "execution_count": null,
   "metadata": {},
   "outputs": [],
   "source": [
    "%%time\n",
    "#NOTE: 14.6k rows took 1hr 49mins to run\n",
    "\n",
    "#STEP 4B. Use function to loop df list of chunnks\n",
    "#Make sure to enter ALL input parameters\n",
    "\n",
    "final_df_list = process_and_save_dataframes(df_chunks=chunks_df_list , classobjectfunc=netflix_class.run_chain_text_only,\n",
    "                                            files_folder_path=csv_folder_path, prompt_col='Content_Type_Prompt', output_col='content_type')\n",
    "\n",
    "print(len(final_df_list))"
   ]
  },
  {
   "cell_type": "markdown",
   "metadata": {},
   "source": [
    "## 3E. CONSOLIDATE BATCH FILES"
   ]
  },
  {
   "cell_type": "code",
   "execution_count": 58,
   "metadata": {},
   "outputs": [],
   "source": [
    "import os\n",
    "import pandas as pd\n",
    "\n",
    "def load_csv_files_to_dataframe(directory):\n",
    "    \"\"\"\n",
    "    Load all CSV files in the specified directory into a single dataframe.\n",
    "    \n",
    "    Parameters:\n",
    "    directory (str): The path to the directory containing the CSV files.\n",
    "    \n",
    "    Returns:\n",
    "    pd.DataFrame: A dataframe containing the concatenated data from all CSV files.\n",
    "    \"\"\"\n",
    "    # List all CSV files in the directory\n",
    "    csv_files = [f for f in os.listdir(directory) if f.endswith('.csv')]\n",
    "    \n",
    "    # Read each CSV file into a dataframe and store them in a list\n",
    "    dataframes = []\n",
    "    for file in csv_files:\n",
    "        file_path = os.path.join(directory, file)\n",
    "        df = pd.read_csv(file_path)\n",
    "        dataframes.append(df)\n",
    "    \n",
    "    # Concatenate all dataframes into one\n",
    "    combined_df = pd.concat(dataframes, ignore_index=True)\n",
    "    \n",
    "    return combined_df\n",
    "\n",
    "\n"
   ]
  },
  {
   "cell_type": "code",
   "execution_count": 59,
   "metadata": {},
   "outputs": [
    {
     "data": {
      "text/plain": [
       "'csv_chunks/'"
      ]
     },
     "execution_count": 59,
     "metadata": {},
     "output_type": "execute_result"
    }
   ],
   "source": [
    "csv_folder_path"
   ]
  },
  {
   "cell_type": "code",
   "execution_count": 60,
   "metadata": {},
   "outputs": [
    {
     "name": "stdout",
     "output_type": "stream",
     "text": [
      "(14608, 7)\n"
     ]
    },
    {
     "data": {
      "text/html": [
       "<div>\n",
       "<style scoped>\n",
       "    .dataframe tbody tr th:only-of-type {\n",
       "        vertical-align: middle;\n",
       "    }\n",
       "\n",
       "    .dataframe tbody tr th {\n",
       "        vertical-align: top;\n",
       "    }\n",
       "\n",
       "    .dataframe thead th {\n",
       "        text-align: right;\n",
       "    }\n",
       "</style>\n",
       "<table border=\"1\" class=\"dataframe\">\n",
       "  <thead>\n",
       "    <tr style=\"text-align: right;\">\n",
       "      <th></th>\n",
       "      <th>Clean_Title</th>\n",
       "      <th>Title_Counts</th>\n",
       "      <th>Clean_Title_Prompt</th>\n",
       "      <th>is_original</th>\n",
       "      <th>Clean_Title_Char_Len</th>\n",
       "      <th>Content_Type_Prompt</th>\n",
       "      <th>content_type</th>\n",
       "    </tr>\n",
       "  </thead>\n",
       "  <tbody>\n",
       "    <tr>\n",
       "      <th>0</th>\n",
       "      <td>naruto shippuden</td>\n",
       "      <td>21</td>\n",
       "      <td>Is title 'naruto shippuden' original Netflix c...</td>\n",
       "      <td>Answer No</td>\n",
       "      <td>16</td>\n",
       "      <td>Is Netflix title 'naruto shippuden' a Series, ...</td>\n",
       "      <td>Answer Series</td>\n",
       "    </tr>\n",
       "    <tr>\n",
       "      <th>1</th>\n",
       "      <td>greys anatomy</td>\n",
       "      <td>19</td>\n",
       "      <td>Is title 'greys anatomy' original Netflix cont...</td>\n",
       "      <td>Answer No</td>\n",
       "      <td>13</td>\n",
       "      <td>Is Netflix title 'greys anatomy' a Series, Mov...</td>\n",
       "      <td>Answer Series</td>\n",
       "    </tr>\n",
       "    <tr>\n",
       "      <th>2</th>\n",
       "      <td>gogglebox</td>\n",
       "      <td>16</td>\n",
       "      <td>Is title 'gogglebox' original Netflix content?</td>\n",
       "      <td>Answer No</td>\n",
       "      <td>9</td>\n",
       "      <td>Is Netflix title 'gogglebox' a Series, Movie, ...</td>\n",
       "      <td>Answer Series</td>\n",
       "    </tr>\n",
       "    <tr>\n",
       "      <th>3</th>\n",
       "      <td>heartland 2007</td>\n",
       "      <td>16</td>\n",
       "      <td>Is title 'heartland 2007' original Netflix con...</td>\n",
       "      <td>Answer No</td>\n",
       "      <td>14</td>\n",
       "      <td>Is Netflix title 'heartland 2007' a Series, Mo...</td>\n",
       "      <td>Answer Series</td>\n",
       "    </tr>\n",
       "    <tr>\n",
       "      <th>4</th>\n",
       "      <td>its always sunny in philadelphia</td>\n",
       "      <td>15</td>\n",
       "      <td>Is title 'its always sunny in philadelphia' or...</td>\n",
       "      <td>Answer No</td>\n",
       "      <td>32</td>\n",
       "      <td>Is Netflix title 'its always sunny in philadel...</td>\n",
       "      <td>Answer Series</td>\n",
       "    </tr>\n",
       "    <tr>\n",
       "      <th>...</th>\n",
       "      <td>...</td>\n",
       "      <td>...</td>\n",
       "      <td>...</td>\n",
       "      <td>...</td>\n",
       "      <td>...</td>\n",
       "      <td>...</td>\n",
       "      <td>...</td>\n",
       "    </tr>\n",
       "    <tr>\n",
       "      <th>14603</th>\n",
       "      <td>rage</td>\n",
       "      <td>1</td>\n",
       "      <td>Is title 'rage' original Netflix content?</td>\n",
       "      <td>Answer No</td>\n",
       "      <td>4</td>\n",
       "      <td>Is Netflix title 'rage' a Series, Movie, or Do...</td>\n",
       "      <td>Answer Movie</td>\n",
       "    </tr>\n",
       "    <tr>\n",
       "      <th>14604</th>\n",
       "      <td>jessabelle</td>\n",
       "      <td>1</td>\n",
       "      <td>Is title 'jessabelle' original Netflix content?</td>\n",
       "      <td>Answer No</td>\n",
       "      <td>10</td>\n",
       "      <td>Is Netflix title 'jessabelle' a Series, Movie,...</td>\n",
       "      <td>Answer Movie</td>\n",
       "    </tr>\n",
       "    <tr>\n",
       "      <th>14605</th>\n",
       "      <td>mnnerhort</td>\n",
       "      <td>1</td>\n",
       "      <td>Is title 'mnnerhort' original Netflix content?</td>\n",
       "      <td>Answer No</td>\n",
       "      <td>9</td>\n",
       "      <td>Is Netflix title 'mnnerhort' a Series, Movie, ...</td>\n",
       "      <td>Answer Movie</td>\n",
       "    </tr>\n",
       "    <tr>\n",
       "      <th>14606</th>\n",
       "      <td>vadh</td>\n",
       "      <td>1</td>\n",
       "      <td>Is title 'vadh' original Netflix content?</td>\n",
       "      <td>Answer No</td>\n",
       "      <td>4</td>\n",
       "      <td>Is Netflix title 'vadh' a Series, Movie, or Do...</td>\n",
       "      <td>Answer Movie</td>\n",
       "    </tr>\n",
       "    <tr>\n",
       "      <th>14607</th>\n",
       "      <td>hunt</td>\n",
       "      <td>1</td>\n",
       "      <td>Is title 'hunt' original Netflix content?</td>\n",
       "      <td>Answer: No</td>\n",
       "      <td>4</td>\n",
       "      <td>Is Netflix title 'hunt' a Series, Movie, or Do...</td>\n",
       "      <td>Answer: It could be either a Series or a Movie...</td>\n",
       "    </tr>\n",
       "  </tbody>\n",
       "</table>\n",
       "<p>14608 rows × 7 columns</p>\n",
       "</div>"
      ],
      "text/plain": [
       "                            Clean_Title  Title_Counts  \\\n",
       "0                      naruto shippuden            21   \n",
       "1                         greys anatomy            19   \n",
       "2                             gogglebox            16   \n",
       "3                        heartland 2007            16   \n",
       "4      its always sunny in philadelphia            15   \n",
       "...                                 ...           ...   \n",
       "14603                              rage             1   \n",
       "14604                        jessabelle             1   \n",
       "14605                         mnnerhort             1   \n",
       "14606                              vadh             1   \n",
       "14607                              hunt             1   \n",
       "\n",
       "                                      Clean_Title_Prompt is_original  \\\n",
       "0      Is title 'naruto shippuden' original Netflix c...   Answer No   \n",
       "1      Is title 'greys anatomy' original Netflix cont...   Answer No   \n",
       "2         Is title 'gogglebox' original Netflix content?   Answer No   \n",
       "3      Is title 'heartland 2007' original Netflix con...   Answer No   \n",
       "4      Is title 'its always sunny in philadelphia' or...   Answer No   \n",
       "...                                                  ...         ...   \n",
       "14603          Is title 'rage' original Netflix content?   Answer No   \n",
       "14604    Is title 'jessabelle' original Netflix content?   Answer No   \n",
       "14605     Is title 'mnnerhort' original Netflix content?   Answer No   \n",
       "14606          Is title 'vadh' original Netflix content?   Answer No   \n",
       "14607          Is title 'hunt' original Netflix content?  Answer: No   \n",
       "\n",
       "       Clean_Title_Char_Len  \\\n",
       "0                        16   \n",
       "1                        13   \n",
       "2                         9   \n",
       "3                        14   \n",
       "4                        32   \n",
       "...                     ...   \n",
       "14603                     4   \n",
       "14604                    10   \n",
       "14605                     9   \n",
       "14606                     4   \n",
       "14607                     4   \n",
       "\n",
       "                                     Content_Type_Prompt  \\\n",
       "0      Is Netflix title 'naruto shippuden' a Series, ...   \n",
       "1      Is Netflix title 'greys anatomy' a Series, Mov...   \n",
       "2      Is Netflix title 'gogglebox' a Series, Movie, ...   \n",
       "3      Is Netflix title 'heartland 2007' a Series, Mo...   \n",
       "4      Is Netflix title 'its always sunny in philadel...   \n",
       "...                                                  ...   \n",
       "14603  Is Netflix title 'rage' a Series, Movie, or Do...   \n",
       "14604  Is Netflix title 'jessabelle' a Series, Movie,...   \n",
       "14605  Is Netflix title 'mnnerhort' a Series, Movie, ...   \n",
       "14606  Is Netflix title 'vadh' a Series, Movie, or Do...   \n",
       "14607  Is Netflix title 'hunt' a Series, Movie, or Do...   \n",
       "\n",
       "                                            content_type  \n",
       "0                                          Answer Series  \n",
       "1                                          Answer Series  \n",
       "2                                          Answer Series  \n",
       "3                                          Answer Series  \n",
       "4                                          Answer Series  \n",
       "...                                                  ...  \n",
       "14603                                       Answer Movie  \n",
       "14604                                       Answer Movie  \n",
       "14605                                       Answer Movie  \n",
       "14606                                       Answer Movie  \n",
       "14607  Answer: It could be either a Series or a Movie...  \n",
       "\n",
       "[14608 rows x 7 columns]"
      ]
     },
     "execution_count": 60,
     "metadata": {},
     "output_type": "execute_result"
    }
   ],
   "source": [
    "# Example usage:\n",
    "# directory = 'csv_chunks/'\n",
    "combined_df = load_csv_files_to_dataframe(directory=csv_folder_path)\n",
    "\n",
    "print(combined_df.shape)\n",
    "\n",
    "combined_df"
   ]
  },
  {
   "cell_type": "code",
   "execution_count": 61,
   "metadata": {},
   "outputs": [],
   "source": [
    "#Save to csv\n",
    "combined_df.to_csv('07 - ENHANCED_DATA - Netflix_Engagement_Date.csv', index=False)"
   ]
  },
  {
   "cell_type": "code",
   "execution_count": null,
   "metadata": {},
   "outputs": [],
   "source": []
  },
  {
   "cell_type": "markdown",
   "metadata": {},
   "source": [
    "# 4. CLEAN ENHANCEMENT DATA"
   ]
  },
  {
   "cell_type": "markdown",
   "metadata": {},
   "source": [
    "## 4A CLEAN COLUMN - is_original\n",
    "\n",
    "- Should only include \"Yes\" or \"No\""
   ]
  },
  {
   "cell_type": "code",
   "execution_count": 64,
   "metadata": {},
   "outputs": [],
   "source": [
    "def check_string_yes_no(s):\n",
    "    #Make sure it is string and remove case sensitive\n",
    "    s = str(s).lower()\n",
    "    if \"yes\" in s:\n",
    "        return \"Yes\"\n",
    "    elif \"no\" in s:\n",
    "        return \"No\"\n",
    "    else:\n",
    "        return \"\"\n"
   ]
  },
  {
   "cell_type": "code",
   "execution_count": 65,
   "metadata": {},
   "outputs": [
    {
     "data": {
      "text/html": [
       "<div>\n",
       "<style scoped>\n",
       "    .dataframe tbody tr th:only-of-type {\n",
       "        vertical-align: middle;\n",
       "    }\n",
       "\n",
       "    .dataframe tbody tr th {\n",
       "        vertical-align: top;\n",
       "    }\n",
       "\n",
       "    .dataframe thead th {\n",
       "        text-align: right;\n",
       "    }\n",
       "</style>\n",
       "<table border=\"1\" class=\"dataframe\">\n",
       "  <thead>\n",
       "    <tr style=\"text-align: right;\">\n",
       "      <th></th>\n",
       "      <th>Clean_Title</th>\n",
       "      <th>Title_Counts</th>\n",
       "      <th>Clean_Title_Prompt</th>\n",
       "      <th>is_original</th>\n",
       "      <th>Clean_Title_Char_Len</th>\n",
       "      <th>Content_Type_Prompt</th>\n",
       "      <th>content_type</th>\n",
       "    </tr>\n",
       "  </thead>\n",
       "  <tbody>\n",
       "    <tr>\n",
       "      <th>0</th>\n",
       "      <td>naruto shippuden</td>\n",
       "      <td>21</td>\n",
       "      <td>Is title 'naruto shippuden' original Netflix c...</td>\n",
       "      <td>Answer No</td>\n",
       "      <td>16</td>\n",
       "      <td>Is Netflix title 'naruto shippuden' a Series, ...</td>\n",
       "      <td>Answer Series</td>\n",
       "    </tr>\n",
       "    <tr>\n",
       "      <th>1</th>\n",
       "      <td>greys anatomy</td>\n",
       "      <td>19</td>\n",
       "      <td>Is title 'greys anatomy' original Netflix cont...</td>\n",
       "      <td>Answer No</td>\n",
       "      <td>13</td>\n",
       "      <td>Is Netflix title 'greys anatomy' a Series, Mov...</td>\n",
       "      <td>Answer Series</td>\n",
       "    </tr>\n",
       "    <tr>\n",
       "      <th>2</th>\n",
       "      <td>gogglebox</td>\n",
       "      <td>16</td>\n",
       "      <td>Is title 'gogglebox' original Netflix content?</td>\n",
       "      <td>Answer No</td>\n",
       "      <td>9</td>\n",
       "      <td>Is Netflix title 'gogglebox' a Series, Movie, ...</td>\n",
       "      <td>Answer Series</td>\n",
       "    </tr>\n",
       "    <tr>\n",
       "      <th>3</th>\n",
       "      <td>heartland 2007</td>\n",
       "      <td>16</td>\n",
       "      <td>Is title 'heartland 2007' original Netflix con...</td>\n",
       "      <td>Answer No</td>\n",
       "      <td>14</td>\n",
       "      <td>Is Netflix title 'heartland 2007' a Series, Mo...</td>\n",
       "      <td>Answer Series</td>\n",
       "    </tr>\n",
       "    <tr>\n",
       "      <th>4</th>\n",
       "      <td>its always sunny in philadelphia</td>\n",
       "      <td>15</td>\n",
       "      <td>Is title 'its always sunny in philadelphia' or...</td>\n",
       "      <td>Answer No</td>\n",
       "      <td>32</td>\n",
       "      <td>Is Netflix title 'its always sunny in philadel...</td>\n",
       "      <td>Answer Series</td>\n",
       "    </tr>\n",
       "  </tbody>\n",
       "</table>\n",
       "</div>"
      ],
      "text/plain": [
       "                        Clean_Title  Title_Counts  \\\n",
       "0                  naruto shippuden            21   \n",
       "1                     greys anatomy            19   \n",
       "2                         gogglebox            16   \n",
       "3                    heartland 2007            16   \n",
       "4  its always sunny in philadelphia            15   \n",
       "\n",
       "                                  Clean_Title_Prompt is_original  \\\n",
       "0  Is title 'naruto shippuden' original Netflix c...   Answer No   \n",
       "1  Is title 'greys anatomy' original Netflix cont...   Answer No   \n",
       "2     Is title 'gogglebox' original Netflix content?   Answer No   \n",
       "3  Is title 'heartland 2007' original Netflix con...   Answer No   \n",
       "4  Is title 'its always sunny in philadelphia' or...   Answer No   \n",
       "\n",
       "   Clean_Title_Char_Len                                Content_Type_Prompt  \\\n",
       "0                    16  Is Netflix title 'naruto shippuden' a Series, ...   \n",
       "1                    13  Is Netflix title 'greys anatomy' a Series, Mov...   \n",
       "2                     9  Is Netflix title 'gogglebox' a Series, Movie, ...   \n",
       "3                    14  Is Netflix title 'heartland 2007' a Series, Mo...   \n",
       "4                    32  Is Netflix title 'its always sunny in philadel...   \n",
       "\n",
       "    content_type  \n",
       "0  Answer Series  \n",
       "1  Answer Series  \n",
       "2  Answer Series  \n",
       "3  Answer Series  \n",
       "4  Answer Series  "
      ]
     },
     "execution_count": 65,
     "metadata": {},
     "output_type": "execute_result"
    }
   ],
   "source": [
    "combined_df.head()"
   ]
  },
  {
   "cell_type": "code",
   "execution_count": 66,
   "metadata": {},
   "outputs": [
    {
     "data": {
      "text/plain": [
       "is_original\n",
       "Answer No                                                                                                                                                           9566\n",
       "Answer: No                                                                                                                                                          2528\n",
       "Answer Yes                                                                                                                                                          2058\n",
       "Answer: Yes                                                                                                                                                          399\n",
       "Answer: It is unclear without more specific information.                                                                                                               5\n",
       "Answer: It is unclear as there are multiple titles with similar names.                                                                                                 4\n",
       "Answer: It is unclear as there are multiple titles with the name \"Welcome\" on Netflix.                                                                                 1\n",
       "Answer: It is unclear if \"New Heights\" is original Netflix content without more information.                                                                           1\n",
       "Answer: It is not possible to determine if \"Delicious Romance 2023\" is original Netflix content without further information.                                           1\n",
       "Answer: It is unclear as there is no information available about a title called \"Voices of the New Gen 2022\" on Netflix.                                               1\n",
       "Answer: It is not clear if \"Story of My Family\" is original Netflix content without more information.                                                                  1\n",
       "Answer: It is unclear as there are multiple titles with similar names on Netflix.                                                                                      1\n",
       "Answer: It is unclear if \"Family Secrets\" is original Netflix content without more specific information.                                                               1\n",
       "Answer: It is unclear if \"thunivu hindi\" is original Netflix content as the title is not recognized.                                                                   1\n",
       "Answer: It is unclear if \"Lockdown 2021\" is original Netflix content without further information.                                                                      1\n",
       "Answer: It is unclear if \"Honeymoon 2022\" is original Netflix content as more information is needed to confirm.                                                        1\n",
       "Answer: It is unclear as there are multiple shows with the title \"Hometown.\"                                                                                           1\n",
       "Answer: It is unclear if \"passport 2022\" is original Netflix content as more information is needed to confirm.                                                         1\n",
       "Answer: It is unclear if \"One Shot 2021\" is original Netflix content without further information.                                                                      1\n",
       "Answer: It is unclear if \"one year\" is original Netflix content as there are multiple titles with similar names.                                                       1\n",
       "Answer: It is unclear if \"The Ledge 2022\" is original Netflix content as more information is needed to confirm.                                                        1\n",
       "Answer: It is unclear if \"A Hard Day 2021\" is original Netflix content without further information.                                                                    1\n",
       "Answer: It is unclear as of now whether \"Spellbound 2023\" is original Netflix content.                                                                                 1\n",
       "Answer: It is unclear if \"Archiwista 2020\" is original Netflix content as more information is needed.                                                                  1\n",
       "Answer: It is unclear if \"Vengeance 2022\" is original Netflix content as more information is needed to confirm.                                                        1\n",
       "Answer: It is unclear if \"The Ghost 2022\" is original Netflix content without further information.                                                                     1\n",
       "Answer: It is unclear which specific title you are referring to as \"game.\" Can you provide more information or context?                                                1\n",
       "Answer: It is unclear if \"Fall 2022\" is original Netflix content as the title alone does not provide enough information to determine its origin.                       1\n",
       "Answer: It is unclear as there are multiple titles with the name \"represent.\" Can you provide more specific information?                                               1\n",
       "Answer: It is unclear if \"the time it takes\" is original Netflix content as there is no specific title matching that description currently available on Netflix.       1\n",
       "Answer: It is unclear if \"Vendetta: Truth Lies and the Mafia Limited Series\" is original Netflix content.                                                              1\n",
       "Answer: It is unclear if \"The Unlikely Murderer Limited Series\" is original Netflix content without further information.                                               1\n",
       "Answer: It is unclear which specific title \"3\" refers to, so it is difficult to determine if it is original Netflix content.                                           1\n",
       "Answer: It is unclear as there are multiple titles with the name \"Missing\" on Netflix. Some may be original content while others may not be.                           1\n",
       "Answer: It is unclear if \"The Teacher 2022\" is original Netflix content without further information.                                                                   1\n",
       "Answer: It is unclear as there is no information available about a Netflix original titled \"Missing 2023.\"                                                             1\n",
       "Answer: It is unclear if \"Ambush 2023\" is original Netflix content as more information is needed to confirm.                                                           1\n",
       "Answer: It is unclear if \"Safari 2022\" is original Netflix content as more information is needed to confirm.                                                           1\n",
       "Answer: It is unclear if \"Amigos 2023\" is original Netflix content as more information is needed.                                                                      1\n",
       "Answer: It is unclear if \"Repulse: Hrana Zlomu\" is original Netflix content as it is not a widely known title.                                                         1\n",
       "Answer: It is unclear if \"Arnold Limited Series\" is original Netflix content as there is no specific title by that name currently available on the platform.           1\n",
       "Answer: It is unclear as there is no specific title called \"teambuilding 2022\" on Netflix.                                                                             1\n",
       "Answer: It is unclear if \"The Offering 2022\" is original Netflix content without further information.                                                                  1\n",
       "Answer: It is unclear if \"Funny Bunny 2021\" is original Netflix content without further information.                                                                   1\n",
       "Answer: It is unclear if \"Jolly Roger 2022\" is original Netflix content as it is not a known title.                                                                    1\n",
       "Answer: It is not possible to determine if \"Shooting Stars 2023\" is original Netflix content without further information.                                              1\n",
       "Answer: It is unclear if \"The Invitation 2022\" is original Netflix content without further information.                                                                1\n",
       "Answer: It is unclear if \"A Lot Like Love 2023\" is original Netflix content as the title does not match any known Netflix productions.                                 1\n",
       "Answer: It is unclear if the title \"soulmate\" is original Netflix content as there are multiple shows and movies with that title on various platforms.                 1\n",
       "Answer: It is unclear if \"The Assistant 2022\" is original Netflix content without further information.                                                                 1\n",
       "Answer: It is unclear which specific title you are referring to as \"black.\" Can you provide more information or context?                                               1\n",
       "Answer: It is unclear if \"Nothing Lasts Forever 2022\" is original Netflix content without further information.                                                         1\n",
       "Answer: It is unclear if \"Women at War Limited Series: Les Combattantes Minisérie\" is original Netflix content.                                                        1\n",
       "Answer: It is unclear as of now whether \"Sir 2023\" is original Netflix content.                                                                                        1\n",
       "Name: count, dtype: int64"
      ]
     },
     "execution_count": 66,
     "metadata": {},
     "output_type": "execute_result"
    }
   ],
   "source": [
    "combined_df['is_original'].value_counts()"
   ]
  },
  {
   "cell_type": "code",
   "execution_count": 67,
   "metadata": {},
   "outputs": [
    {
     "data": {
      "text/plain": [
       "is_original\n",
       "No     12111\n",
       "Yes     2457\n",
       "          40\n",
       "Name: count, dtype: int64"
      ]
     },
     "execution_count": 67,
     "metadata": {},
     "output_type": "execute_result"
    }
   ],
   "source": [
    "#Use function to clean col\n",
    "combined_df['is_original'] = combined_df['is_original'].apply(check_string_yes_no)\n",
    "\n",
    "#View counts\n",
    "combined_df['is_original'].value_counts()"
   ]
  },
  {
   "cell_type": "code",
   "execution_count": 68,
   "metadata": {},
   "outputs": [
    {
     "data": {
      "text/plain": [
       "is_original\n",
       "No     0.829066\n",
       "Yes    0.168196\n",
       "       0.002738\n",
       "Name: proportion, dtype: float64"
      ]
     },
     "execution_count": 68,
     "metadata": {},
     "output_type": "execute_result"
    }
   ],
   "source": [
    "\n",
    "#View ratio\n",
    "combined_df['is_original'].value_counts(normalize=True)"
   ]
  },
  {
   "cell_type": "code",
   "execution_count": null,
   "metadata": {},
   "outputs": [],
   "source": []
  },
  {
   "cell_type": "markdown",
   "metadata": {},
   "source": [
    "## 4B. CLEAN - content_type\n",
    "\n",
    "- Should only include Series, Movie, or Documentary"
   ]
  },
  {
   "cell_type": "code",
   "execution_count": 72,
   "metadata": {},
   "outputs": [],
   "source": [
    "def check_media_type(s):\n",
    "    lower_s = s.lower()  # Convert string to lowercase for case-insensitive comparison\n",
    "    if \"series\" in lower_s:\n",
    "        return \"Series\"\n",
    "    elif \"movie\" in lower_s:\n",
    "        return \"Movie\"\n",
    "    elif \"documentary\" in lower_s:\n",
    "        return \"Documentary\"\n",
    "    else:\n",
    "        return \"\"\n"
   ]
  },
  {
   "cell_type": "code",
   "execution_count": 73,
   "metadata": {},
   "outputs": [
    {
     "data": {
      "text/plain": [
       "content_type\n",
       "Answer Movie                                                                                                                6962\n",
       "Answer Series                                                                                                               5546\n",
       "Answer Documentary                                                                                                           674\n",
       "Answer: Series                                                                                                               249\n",
       "Answer: Movie                                                                                                                199\n",
       "                                                                                                                            ... \n",
       "Answer: It could be any of the three, as there is no specific title on Netflix called \"shanty town.\"                           1\n",
       "Answer: It could refer to either a movie or a series, as there are multiple titles with \"The Island\" on Netflix.               1\n",
       "Answer: It could refer to either a Series or a Movie, as there are multiple titles with the word \"Professor\" on Netflix.       1\n",
       "Answer: It could be either a movie or a series, without more specific information.                                             1\n",
       "Answer: It is unclear as there is no known Netflix title called \"two dos.\"                                                     1\n",
       "Name: count, Length: 314, dtype: int64"
      ]
     },
     "execution_count": 73,
     "metadata": {},
     "output_type": "execute_result"
    }
   ],
   "source": [
    "#BEFORE CLEANING\n",
    "combined_df['content_type'].value_counts()"
   ]
  },
  {
   "cell_type": "code",
   "execution_count": 74,
   "metadata": {},
   "outputs": [
    {
     "data": {
      "text/plain": [
       "content_type\n",
       "Movie          7184\n",
       "Series         6025\n",
       "Documentary     708\n",
       "                691\n",
       "Name: count, dtype: int64"
      ]
     },
     "execution_count": 74,
     "metadata": {},
     "output_type": "execute_result"
    }
   ],
   "source": [
    "#AFTER CLEANING\n",
    "\n",
    "#Use function to clean col\n",
    "combined_df['content_type'] = combined_df['content_type'].apply(check_media_type)\n",
    "\n",
    "#View counts\n",
    "combined_df['content_type'].value_counts()"
   ]
  },
  {
   "cell_type": "code",
   "execution_count": 75,
   "metadata": {},
   "outputs": [
    {
     "data": {
      "text/plain": [
       "content_type\n",
       "Movie          0.491785\n",
       "Series         0.412445\n",
       "Documentary    0.048467\n",
       "               0.047303\n",
       "Name: proportion, dtype: float64"
      ]
     },
     "execution_count": 75,
     "metadata": {},
     "output_type": "execute_result"
    }
   ],
   "source": [
    "#View ratio\n",
    "combined_df['content_type'].value_counts(normalize=True)"
   ]
  },
  {
   "cell_type": "code",
   "execution_count": null,
   "metadata": {},
   "outputs": [],
   "source": []
  },
  {
   "cell_type": "markdown",
   "metadata": {},
   "source": [
    "## 4C. ADD COLUMN API_DATA_ID\n",
    "\n",
    "This helps with id which engagement record merged with the api data record."
   ]
  },
  {
   "cell_type": "code",
   "execution_count": 76,
   "metadata": {},
   "outputs": [],
   "source": [
    "def add_api_data_id_column_first(df):\n",
    "    \"\"\"\n",
    "    Adds a new column 'api_data_id' as the first column to the dataframe based on the specified format.\n",
    "\n",
    "    Args:\n",
    "    df (pd.DataFrame): The input dataframe with 'is_original' and 'content_type' columns.\n",
    "\n",
    "    Returns:\n",
    "    pd.DataFrame: The dataframe with the added 'api_data_id' column at the first position.\n",
    "    \"\"\"\n",
    "    # Generate the 'api_data_id' column and insert it at the first position\n",
    "    api_data_id = df.apply(lambda row: f\"api-{row.name}-{row['is_original']}-{row['content_type']}\", axis=1)\n",
    "    df.insert(0, 'api_data_id', api_data_id)  # Inserting at the first position\n",
    "    return df\n",
    "\n"
   ]
  },
  {
   "cell_type": "code",
   "execution_count": 77,
   "metadata": {},
   "outputs": [
    {
     "data": {
      "text/html": [
       "<div>\n",
       "<style scoped>\n",
       "    .dataframe tbody tr th:only-of-type {\n",
       "        vertical-align: middle;\n",
       "    }\n",
       "\n",
       "    .dataframe tbody tr th {\n",
       "        vertical-align: top;\n",
       "    }\n",
       "\n",
       "    .dataframe thead th {\n",
       "        text-align: right;\n",
       "    }\n",
       "</style>\n",
       "<table border=\"1\" class=\"dataframe\">\n",
       "  <thead>\n",
       "    <tr style=\"text-align: right;\">\n",
       "      <th></th>\n",
       "      <th>Clean_Title</th>\n",
       "      <th>Title_Counts</th>\n",
       "      <th>Clean_Title_Prompt</th>\n",
       "      <th>is_original</th>\n",
       "      <th>Clean_Title_Char_Len</th>\n",
       "      <th>Content_Type_Prompt</th>\n",
       "      <th>content_type</th>\n",
       "    </tr>\n",
       "  </thead>\n",
       "  <tbody>\n",
       "    <tr>\n",
       "      <th>0</th>\n",
       "      <td>naruto shippuden</td>\n",
       "      <td>21</td>\n",
       "      <td>Is title 'naruto shippuden' original Netflix c...</td>\n",
       "      <td>No</td>\n",
       "      <td>16</td>\n",
       "      <td>Is Netflix title 'naruto shippuden' a Series, ...</td>\n",
       "      <td>Series</td>\n",
       "    </tr>\n",
       "    <tr>\n",
       "      <th>1</th>\n",
       "      <td>greys anatomy</td>\n",
       "      <td>19</td>\n",
       "      <td>Is title 'greys anatomy' original Netflix cont...</td>\n",
       "      <td>No</td>\n",
       "      <td>13</td>\n",
       "      <td>Is Netflix title 'greys anatomy' a Series, Mov...</td>\n",
       "      <td>Series</td>\n",
       "    </tr>\n",
       "    <tr>\n",
       "      <th>2</th>\n",
       "      <td>gogglebox</td>\n",
       "      <td>16</td>\n",
       "      <td>Is title 'gogglebox' original Netflix content?</td>\n",
       "      <td>No</td>\n",
       "      <td>9</td>\n",
       "      <td>Is Netflix title 'gogglebox' a Series, Movie, ...</td>\n",
       "      <td>Series</td>\n",
       "    </tr>\n",
       "    <tr>\n",
       "      <th>3</th>\n",
       "      <td>heartland 2007</td>\n",
       "      <td>16</td>\n",
       "      <td>Is title 'heartland 2007' original Netflix con...</td>\n",
       "      <td>No</td>\n",
       "      <td>14</td>\n",
       "      <td>Is Netflix title 'heartland 2007' a Series, Mo...</td>\n",
       "      <td>Series</td>\n",
       "    </tr>\n",
       "    <tr>\n",
       "      <th>4</th>\n",
       "      <td>its always sunny in philadelphia</td>\n",
       "      <td>15</td>\n",
       "      <td>Is title 'its always sunny in philadelphia' or...</td>\n",
       "      <td>No</td>\n",
       "      <td>32</td>\n",
       "      <td>Is Netflix title 'its always sunny in philadel...</td>\n",
       "      <td>Series</td>\n",
       "    </tr>\n",
       "  </tbody>\n",
       "</table>\n",
       "</div>"
      ],
      "text/plain": [
       "                        Clean_Title  Title_Counts  \\\n",
       "0                  naruto shippuden            21   \n",
       "1                     greys anatomy            19   \n",
       "2                         gogglebox            16   \n",
       "3                    heartland 2007            16   \n",
       "4  its always sunny in philadelphia            15   \n",
       "\n",
       "                                  Clean_Title_Prompt is_original  \\\n",
       "0  Is title 'naruto shippuden' original Netflix c...          No   \n",
       "1  Is title 'greys anatomy' original Netflix cont...          No   \n",
       "2     Is title 'gogglebox' original Netflix content?          No   \n",
       "3  Is title 'heartland 2007' original Netflix con...          No   \n",
       "4  Is title 'its always sunny in philadelphia' or...          No   \n",
       "\n",
       "   Clean_Title_Char_Len                                Content_Type_Prompt  \\\n",
       "0                    16  Is Netflix title 'naruto shippuden' a Series, ...   \n",
       "1                    13  Is Netflix title 'greys anatomy' a Series, Mov...   \n",
       "2                     9  Is Netflix title 'gogglebox' a Series, Movie, ...   \n",
       "3                    14  Is Netflix title 'heartland 2007' a Series, Mo...   \n",
       "4                    32  Is Netflix title 'its always sunny in philadel...   \n",
       "\n",
       "  content_type  \n",
       "0       Series  \n",
       "1       Series  \n",
       "2       Series  \n",
       "3       Series  \n",
       "4       Series  "
      ]
     },
     "execution_count": 77,
     "metadata": {},
     "output_type": "execute_result"
    }
   ],
   "source": [
    "combined_df.head()"
   ]
  },
  {
   "cell_type": "code",
   "execution_count": 78,
   "metadata": {},
   "outputs": [
    {
     "name": "stdout",
     "output_type": "stream",
     "text": [
      "(14608, 8)\n"
     ]
    },
    {
     "data": {
      "text/html": [
       "<div>\n",
       "<style scoped>\n",
       "    .dataframe tbody tr th:only-of-type {\n",
       "        vertical-align: middle;\n",
       "    }\n",
       "\n",
       "    .dataframe tbody tr th {\n",
       "        vertical-align: top;\n",
       "    }\n",
       "\n",
       "    .dataframe thead th {\n",
       "        text-align: right;\n",
       "    }\n",
       "</style>\n",
       "<table border=\"1\" class=\"dataframe\">\n",
       "  <thead>\n",
       "    <tr style=\"text-align: right;\">\n",
       "      <th></th>\n",
       "      <th>api_data_id</th>\n",
       "      <th>Clean_Title</th>\n",
       "      <th>Title_Counts</th>\n",
       "      <th>Clean_Title_Prompt</th>\n",
       "      <th>is_original</th>\n",
       "      <th>Clean_Title_Char_Len</th>\n",
       "      <th>Content_Type_Prompt</th>\n",
       "      <th>content_type</th>\n",
       "    </tr>\n",
       "  </thead>\n",
       "  <tbody>\n",
       "    <tr>\n",
       "      <th>0</th>\n",
       "      <td>api-0-No-Series</td>\n",
       "      <td>naruto shippuden</td>\n",
       "      <td>21</td>\n",
       "      <td>Is title 'naruto shippuden' original Netflix c...</td>\n",
       "      <td>No</td>\n",
       "      <td>16</td>\n",
       "      <td>Is Netflix title 'naruto shippuden' a Series, ...</td>\n",
       "      <td>Series</td>\n",
       "    </tr>\n",
       "    <tr>\n",
       "      <th>1</th>\n",
       "      <td>api-1-No-Series</td>\n",
       "      <td>greys anatomy</td>\n",
       "      <td>19</td>\n",
       "      <td>Is title 'greys anatomy' original Netflix cont...</td>\n",
       "      <td>No</td>\n",
       "      <td>13</td>\n",
       "      <td>Is Netflix title 'greys anatomy' a Series, Mov...</td>\n",
       "      <td>Series</td>\n",
       "    </tr>\n",
       "    <tr>\n",
       "      <th>2</th>\n",
       "      <td>api-2-No-Series</td>\n",
       "      <td>gogglebox</td>\n",
       "      <td>16</td>\n",
       "      <td>Is title 'gogglebox' original Netflix content?</td>\n",
       "      <td>No</td>\n",
       "      <td>9</td>\n",
       "      <td>Is Netflix title 'gogglebox' a Series, Movie, ...</td>\n",
       "      <td>Series</td>\n",
       "    </tr>\n",
       "    <tr>\n",
       "      <th>3</th>\n",
       "      <td>api-3-No-Series</td>\n",
       "      <td>heartland 2007</td>\n",
       "      <td>16</td>\n",
       "      <td>Is title 'heartland 2007' original Netflix con...</td>\n",
       "      <td>No</td>\n",
       "      <td>14</td>\n",
       "      <td>Is Netflix title 'heartland 2007' a Series, Mo...</td>\n",
       "      <td>Series</td>\n",
       "    </tr>\n",
       "    <tr>\n",
       "      <th>4</th>\n",
       "      <td>api-4-No-Series</td>\n",
       "      <td>its always sunny in philadelphia</td>\n",
       "      <td>15</td>\n",
       "      <td>Is title 'its always sunny in philadelphia' or...</td>\n",
       "      <td>No</td>\n",
       "      <td>32</td>\n",
       "      <td>Is Netflix title 'its always sunny in philadel...</td>\n",
       "      <td>Series</td>\n",
       "    </tr>\n",
       "    <tr>\n",
       "      <th>...</th>\n",
       "      <td>...</td>\n",
       "      <td>...</td>\n",
       "      <td>...</td>\n",
       "      <td>...</td>\n",
       "      <td>...</td>\n",
       "      <td>...</td>\n",
       "      <td>...</td>\n",
       "      <td>...</td>\n",
       "    </tr>\n",
       "    <tr>\n",
       "      <th>14603</th>\n",
       "      <td>api-14603-No-Movie</td>\n",
       "      <td>rage</td>\n",
       "      <td>1</td>\n",
       "      <td>Is title 'rage' original Netflix content?</td>\n",
       "      <td>No</td>\n",
       "      <td>4</td>\n",
       "      <td>Is Netflix title 'rage' a Series, Movie, or Do...</td>\n",
       "      <td>Movie</td>\n",
       "    </tr>\n",
       "    <tr>\n",
       "      <th>14604</th>\n",
       "      <td>api-14604-No-Movie</td>\n",
       "      <td>jessabelle</td>\n",
       "      <td>1</td>\n",
       "      <td>Is title 'jessabelle' original Netflix content?</td>\n",
       "      <td>No</td>\n",
       "      <td>10</td>\n",
       "      <td>Is Netflix title 'jessabelle' a Series, Movie,...</td>\n",
       "      <td>Movie</td>\n",
       "    </tr>\n",
       "    <tr>\n",
       "      <th>14605</th>\n",
       "      <td>api-14605-No-Movie</td>\n",
       "      <td>mnnerhort</td>\n",
       "      <td>1</td>\n",
       "      <td>Is title 'mnnerhort' original Netflix content?</td>\n",
       "      <td>No</td>\n",
       "      <td>9</td>\n",
       "      <td>Is Netflix title 'mnnerhort' a Series, Movie, ...</td>\n",
       "      <td>Movie</td>\n",
       "    </tr>\n",
       "    <tr>\n",
       "      <th>14606</th>\n",
       "      <td>api-14606-No-Movie</td>\n",
       "      <td>vadh</td>\n",
       "      <td>1</td>\n",
       "      <td>Is title 'vadh' original Netflix content?</td>\n",
       "      <td>No</td>\n",
       "      <td>4</td>\n",
       "      <td>Is Netflix title 'vadh' a Series, Movie, or Do...</td>\n",
       "      <td>Movie</td>\n",
       "    </tr>\n",
       "    <tr>\n",
       "      <th>14607</th>\n",
       "      <td>api-14607-No-Series</td>\n",
       "      <td>hunt</td>\n",
       "      <td>1</td>\n",
       "      <td>Is title 'hunt' original Netflix content?</td>\n",
       "      <td>No</td>\n",
       "      <td>4</td>\n",
       "      <td>Is Netflix title 'hunt' a Series, Movie, or Do...</td>\n",
       "      <td>Series</td>\n",
       "    </tr>\n",
       "  </tbody>\n",
       "</table>\n",
       "<p>14608 rows × 8 columns</p>\n",
       "</div>"
      ],
      "text/plain": [
       "               api_data_id                       Clean_Title  Title_Counts  \\\n",
       "0          api-0-No-Series                  naruto shippuden            21   \n",
       "1          api-1-No-Series                     greys anatomy            19   \n",
       "2          api-2-No-Series                         gogglebox            16   \n",
       "3          api-3-No-Series                    heartland 2007            16   \n",
       "4          api-4-No-Series  its always sunny in philadelphia            15   \n",
       "...                    ...                               ...           ...   \n",
       "14603   api-14603-No-Movie                              rage             1   \n",
       "14604   api-14604-No-Movie                        jessabelle             1   \n",
       "14605   api-14605-No-Movie                         mnnerhort             1   \n",
       "14606   api-14606-No-Movie                              vadh             1   \n",
       "14607  api-14607-No-Series                              hunt             1   \n",
       "\n",
       "                                      Clean_Title_Prompt is_original  \\\n",
       "0      Is title 'naruto shippuden' original Netflix c...          No   \n",
       "1      Is title 'greys anatomy' original Netflix cont...          No   \n",
       "2         Is title 'gogglebox' original Netflix content?          No   \n",
       "3      Is title 'heartland 2007' original Netflix con...          No   \n",
       "4      Is title 'its always sunny in philadelphia' or...          No   \n",
       "...                                                  ...         ...   \n",
       "14603          Is title 'rage' original Netflix content?          No   \n",
       "14604    Is title 'jessabelle' original Netflix content?          No   \n",
       "14605     Is title 'mnnerhort' original Netflix content?          No   \n",
       "14606          Is title 'vadh' original Netflix content?          No   \n",
       "14607          Is title 'hunt' original Netflix content?          No   \n",
       "\n",
       "       Clean_Title_Char_Len  \\\n",
       "0                        16   \n",
       "1                        13   \n",
       "2                         9   \n",
       "3                        14   \n",
       "4                        32   \n",
       "...                     ...   \n",
       "14603                     4   \n",
       "14604                    10   \n",
       "14605                     9   \n",
       "14606                     4   \n",
       "14607                     4   \n",
       "\n",
       "                                     Content_Type_Prompt content_type  \n",
       "0      Is Netflix title 'naruto shippuden' a Series, ...       Series  \n",
       "1      Is Netflix title 'greys anatomy' a Series, Mov...       Series  \n",
       "2      Is Netflix title 'gogglebox' a Series, Movie, ...       Series  \n",
       "3      Is Netflix title 'heartland 2007' a Series, Mo...       Series  \n",
       "4      Is Netflix title 'its always sunny in philadel...       Series  \n",
       "...                                                  ...          ...  \n",
       "14603  Is Netflix title 'rage' a Series, Movie, or Do...        Movie  \n",
       "14604  Is Netflix title 'jessabelle' a Series, Movie,...        Movie  \n",
       "14605  Is Netflix title 'mnnerhort' a Series, Movie, ...        Movie  \n",
       "14606  Is Netflix title 'vadh' a Series, Movie, or Do...        Movie  \n",
       "14607  Is Netflix title 'hunt' a Series, Movie, or Do...       Series  \n",
       "\n",
       "[14608 rows x 8 columns]"
      ]
     },
     "execution_count": 78,
     "metadata": {},
     "output_type": "execute_result"
    }
   ],
   "source": [
    "#Use function to create column 'api_data_id' \n",
    "combined_df = add_api_data_id_column_first(combined_df)\n",
    "\n",
    "print(combined_df.shape)\n",
    "\n",
    "combined_df"
   ]
  },
  {
   "cell_type": "code",
   "execution_count": 79,
   "metadata": {},
   "outputs": [],
   "source": [
    "#Save to csv\n",
    "combined_df.to_csv('08 - FORMATTED_ENHANCED_DATA - Netflix_Engagement_Date.csv', index=False)"
   ]
  },
  {
   "cell_type": "code",
   "execution_count": null,
   "metadata": {},
   "outputs": [],
   "source": []
  },
  {
   "cell_type": "code",
   "execution_count": null,
   "metadata": {},
   "outputs": [],
   "source": []
  },
  {
   "cell_type": "code",
   "execution_count": 2,
   "metadata": {},
   "outputs": [
    {
     "name": "stdout",
     "output_type": "stream",
     "text": [
      "<class 'str'>\n"
     ]
    },
    {
     "data": {
      "text/plain": [
       "'You are a manager agent. You direct the actions of the researcher agent. You are responsible for creating plans and strategies, coordinating activities, and compiling the final response.'"
      ]
     },
     "execution_count": 2,
     "metadata": {},
     "output_type": "execute_result"
    }
   ],
   "source": []
  },
  {
   "cell_type": "code",
   "execution_count": null,
   "metadata": {},
   "outputs": [],
   "source": []
  }
 ],
 "metadata": {
  "kernelspec": {
   "display_name": "netflix_proj_env",
   "language": "python",
   "name": "python3"
  },
  "language_info": {
   "codemirror_mode": {
    "name": "ipython",
    "version": 3
   },
   "file_extension": ".py",
   "mimetype": "text/x-python",
   "name": "python",
   "nbconvert_exporter": "python",
   "pygments_lexer": "ipython3",
   "version": "3.10.13"
  }
 },
 "nbformat": 4,
 "nbformat_minor": 2
}
